{
 "cells": [
  {
   "cell_type": "markdown",
   "metadata": {},
   "source": [
    "# Chapter-9 Standard Libraries\n",
    "This notebook contains the sample source code explained in the book *Hands-On Julia Programming, Sambit Kumar Dash, 2021, bpb Publications. All Rights Reserved*."
   ]
  },
  {
   "cell_type": "code",
   "execution_count": 367,
   "metadata": {},
   "outputs": [
    {
     "name": "stderr",
     "output_type": "stream",
     "text": [
      "\u001b[32m\u001b[1m  Activating\u001b[22m\u001b[39m environment at `C:\\Users\\vishn\\Hands-on-Julia-Programming\\Chapter 09\\Project.toml`\n",
      "\u001b[32m\u001b[1m  Activating\u001b[22m\u001b[39m environment at `C:\\Users\\vishn\\Hands-on-Julia-Programming\\Chapter 09\\Project.toml`\n"
     ]
    },
    {
     "name": "stdout",
     "output_type": "stream",
     "text": [
      "Step: 4\n",
      "Step: 4\n",
      "Step: 24\n",
      "Step: 24\n"
     ]
    }
   ],
   "source": [
    "using Pkg\n",
    "pkg\"activate .\"\n",
    "pkg\"instantiate\""
   ]
  },
  {
   "cell_type": "markdown",
   "metadata": {},
   "source": [
    "## 9.1 Introduction\n",
    "\n",
    "There are various functions and methods that are part of Julia already. A developer needs to use them directly rather than having to code for them. This chapter is a bird's eyeview of such methods. "
   ]
  },
  {
   "cell_type": "markdown",
   "metadata": {},
   "source": [
    "### Modules\n",
    "\n",
    "Namespaces where a method or a type reside. Using a method or type outside the module may require explicit qualification. "
   ]
  },
  {
   "cell_type": "code",
   "execution_count": 368,
   "metadata": {},
   "outputs": [
    {
     "name": "stderr",
     "output_type": "stream",
     "text": [
      "WARNING: replacing module m1.\n",
      "WARNING: replacing module m2.\n"
     ]
    },
    {
     "data": {
      "text/plain": [
       "Main.m2"
      ]
     },
     "execution_count": 368,
     "metadata": {},
     "output_type": "execute_result"
    },
    {
     "name": "stderr",
     "output_type": "stream",
     "text": [
      "WARNING: replacing module m1.\n",
      "WARNING: replacing module m2.\n"
     ]
    },
    {
     "data": {
      "text/plain": [
       "Main.m2"
      ]
     },
     "execution_count": 368,
     "metadata": {},
     "output_type": "execute_result"
    }
   ],
   "source": [
    "module m1\n",
    "    function f()\n",
    "        println(\"Defined as m1.f\")\n",
    "    end\n",
    "    function g()\n",
    "        println(\"Defined as m1.g\")\n",
    "    end\n",
    "    function h()\n",
    "        println(\"Defined as m1.h\")\n",
    "    end\n",
    "    export f\n",
    "end\n",
    "\n",
    "module m2\n",
    "    function f()\n",
    "        println(\"Defined as m2.f\")\n",
    "    end\n",
    "    function g()\n",
    "        println(\"Defined as m2.g\")\n",
    "    end\n",
    "    export g\n",
    "end"
   ]
  },
  {
   "cell_type": "code",
   "execution_count": 369,
   "metadata": {},
   "outputs": [
    {
     "data": {
      "text/plain": [
       "2-element Vector{Symbol}:\n",
       " :f\n",
       " :m1"
      ]
     },
     "execution_count": 369,
     "metadata": {},
     "output_type": "execute_result"
    },
    {
     "data": {
      "text/plain": [
       "2-element Vector{Symbol}:\n",
       " :f\n",
       " :m1"
      ]
     },
     "execution_count": 369,
     "metadata": {},
     "output_type": "execute_result"
    }
   ],
   "source": [
    "names(m1)"
   ]
  },
  {
   "cell_type": "code",
   "execution_count": 370,
   "metadata": {},
   "outputs": [
    {
     "data": {
      "text/plain": [
       "2-element Vector{Symbol}:\n",
       " :g\n",
       " :m2"
      ]
     },
     "execution_count": 370,
     "metadata": {},
     "output_type": "execute_result"
    },
    {
     "data": {
      "text/plain": [
       "2-element Vector{Symbol}:\n",
       " :g\n",
       " :m2"
      ]
     },
     "execution_count": 370,
     "metadata": {},
     "output_type": "execute_result"
    }
   ],
   "source": [
    "names(m2)"
   ]
  },
  {
   "cell_type": "code",
   "execution_count": 371,
   "metadata": {},
   "outputs": [
    {
     "name": "stdout",
     "output_type": "stream",
     "text": [
      "Defined as m1.f\n",
      "Defined as m1.f\n"
     ]
    }
   ],
   "source": [
    "f()"
   ]
  },
  {
   "cell_type": "code",
   "execution_count": 372,
   "metadata": {},
   "outputs": [
    {
     "name": "stdout",
     "output_type": "stream",
     "text": [
      "Defined as m1.f\n",
      "Defined as m1.f\n"
     ]
    }
   ],
   "source": [
    "m1.f()"
   ]
  },
  {
   "cell_type": "code",
   "execution_count": 373,
   "metadata": {},
   "outputs": [
    {
     "name": "stdout",
     "output_type": "stream",
     "text": [
      "Defined as m2.f\n",
      "Defined as m2.f\n"
     ]
    }
   ],
   "source": [
    "m2.f()"
   ]
  },
  {
   "cell_type": "code",
   "execution_count": 374,
   "metadata": {},
   "outputs": [
    {
     "name": "stderr",
     "output_type": "stream",
     "text": [
      "WARNING: using m1.f in module Main conflicts with an existing identifier.\n",
      "WARNING: using m1.f in module Main conflicts with an existing identifier.\n"
     ]
    }
   ],
   "source": [
    "using .m1"
   ]
  },
  {
   "cell_type": "code",
   "execution_count": 375,
   "metadata": {},
   "outputs": [
    {
     "name": "stdout",
     "output_type": "stream",
     "text": [
      "Defined as m1.f\n",
      "Defined as m1.f\n"
     ]
    }
   ],
   "source": [
    "f()"
   ]
  },
  {
   "cell_type": "code",
   "execution_count": 376,
   "metadata": {},
   "outputs": [
    {
     "name": "stdout",
     "output_type": "stream",
     "text": [
      "Defined as m2.g\n",
      "Defined as m2.g\n"
     ]
    }
   ],
   "source": [
    "g()"
   ]
  },
  {
   "cell_type": "code",
   "execution_count": 377,
   "metadata": {},
   "outputs": [
    {
     "name": "stderr",
     "output_type": "stream",
     "text": [
      "WARNING: using m2.g in module Main conflicts with an existing identifier.\n",
      "WARNING: using m2.g in module Main conflicts with an existing identifier.\n"
     ]
    }
   ],
   "source": [
    "using Main.m2"
   ]
  },
  {
   "cell_type": "code",
   "execution_count": 378,
   "metadata": {},
   "outputs": [
    {
     "name": "stdout",
     "output_type": "stream",
     "text": [
      "Defined as m2.g\n",
      "Defined as m2.g\n"
     ]
    }
   ],
   "source": [
    "g()"
   ]
  },
  {
   "cell_type": "code",
   "execution_count": 379,
   "metadata": {},
   "outputs": [
    {
     "name": "stderr",
     "output_type": "stream",
     "text": [
      "WARNING: ignoring conflicting import of m1.g into Main\n",
      "WARNING: ignoring conflicting import of m1.g into Main\n"
     ]
    }
   ],
   "source": [
    "using .m1: g"
   ]
  },
  {
   "cell_type": "code",
   "execution_count": 380,
   "metadata": {},
   "outputs": [
    {
     "name": "stdout",
     "output_type": "stream",
     "text": [
      "Defined as m2.g\n",
      "Defined as m2.g\n"
     ]
    }
   ],
   "source": [
    "g()"
   ]
  },
  {
   "cell_type": "code",
   "execution_count": 381,
   "metadata": {},
   "outputs": [
    {
     "name": "stderr",
     "output_type": "stream",
     "text": [
      "WARNING: ignoring conflicting import of m1.h into Main\n",
      "WARNING: ignoring conflicting import of m1.h into Main\n"
     ]
    }
   ],
   "source": [
    "using .m1: h"
   ]
  },
  {
   "cell_type": "code",
   "execution_count": 382,
   "metadata": {},
   "outputs": [
    {
     "name": "stdout",
     "output_type": "stream",
     "text": [
      "Defined as m1.h\n",
      "Defined as m1.h\n"
     ]
    }
   ],
   "source": [
    "h()"
   ]
  },
  {
   "cell_type": "markdown",
   "metadata": {},
   "source": [
    "## 9.2 Standard Modules\n",
    "\n",
    "`Core`, `Base` and `Main` the bare minimum modules of a Julia shell. `m1` and `m2` here are submodules of `Main`."
   ]
  },
  {
   "cell_type": "code",
   "execution_count": 383,
   "metadata": {},
   "outputs": [
    {
     "data": {
      "text/latex": [
       "\\begin{tabular}\n",
       "{l | r | l}\n",
       "name & size & summary \\\\\n",
       "\\hline\n",
       "A & 136 bytes & 3×4 Matrix\\{Float64\\} \\\\\n",
       "A2 & 0 bytes & Nothing \\\\\n",
       "Base &  & Module \\\\\n",
       "Core &  & Module \\\\\n",
       "Main &  & Module \\\\\n",
       "c & 64.299 KiB & TCPSocket \\\\\n",
       "d & 8 bytes & Date \\\\\n",
       "data & 1.602 KiB & 100×2 Matrix\\{Float64\\} \\\\\n",
       "fd & 335 bytes & IOStream \\\\\n",
       "fs & 96 bytes & Base.Filesystem.StatStruct \\\\\n",
       "header & 1.180 KiB & 1×2 Matrix\\{AbstractString\\} \\\\\n",
       "io & 88 bytes & IOBuffer \\\\\n",
       "m1 & 5.719 KiB & Module \\\\\n",
       "m2 & 4.846 KiB & Module \\\\\n",
       "nc & 8 bytes & Int64 \\\\\n",
       "nr & 8 bytes & Int64 \\\\\n",
       "old\\_dir & 60 bytes & 52-codeunit String \\\\\n",
       "p & 96 bytes & Dates.CompoundPeriod \\\\\n",
       "str & 38 bytes & 30-codeunit String \\\\\n",
       "t & 8 bytes & DateTime \\\\\n",
       "x & 840 bytes & 100-element Vector\\{Int64\\} \\\\\n",
       "y & 840 bytes & 100-element Vector\\{Float64\\} \\\\\n",
       "\\end{tabular}\n"
      ],
      "text/markdown": [
       "| name    |       size | summary                     |\n",
       "|:------- | ----------:|:--------------------------- |\n",
       "| A       |  136 bytes | 3×4 Matrix{Float64}         |\n",
       "| A2      |    0 bytes | Nothing                     |\n",
       "| Base    |            | Module                      |\n",
       "| Core    |            | Module                      |\n",
       "| Main    |            | Module                      |\n",
       "| c       | 64.299 KiB | TCPSocket                   |\n",
       "| d       |    8 bytes | Date                        |\n",
       "| data    |  1.602 KiB | 100×2 Matrix{Float64}       |\n",
       "| fd      |  335 bytes | IOStream                    |\n",
       "| fs      |   96 bytes | Base.Filesystem.StatStruct  |\n",
       "| header  |  1.180 KiB | 1×2 Matrix{AbstractString}  |\n",
       "| io      |   88 bytes | IOBuffer                    |\n",
       "| m1      |  5.719 KiB | Module                      |\n",
       "| m2      |  4.846 KiB | Module                      |\n",
       "| nc      |    8 bytes | Int64                       |\n",
       "| nr      |    8 bytes | Int64                       |\n",
       "| old_dir |   60 bytes | 52-codeunit String          |\n",
       "| p       |   96 bytes | Dates.CompoundPeriod        |\n",
       "| str     |   38 bytes | 30-codeunit String          |\n",
       "| t       |    8 bytes | DateTime                    |\n",
       "| x       |  840 bytes | 100-element Vector{Int64}   |\n",
       "| y       |  840 bytes | 100-element Vector{Float64} |\n"
      ],
      "text/plain": [
       "  name          size summary                    \n",
       "  ––––––– –––––––––– –––––––––––––––––––––––––––\n",
       "  A        136 bytes 3×4 Matrix{Float64}        \n",
       "  A2         0 bytes Nothing                    \n",
       "  Base               Module                     \n",
       "  Core               Module                     \n",
       "  Main               Module                     \n",
       "  c       64.299 KiB TCPSocket                  \n",
       "  d          8 bytes Date                       \n",
       "  data     1.602 KiB 100×2 Matrix{Float64}      \n",
       "  fd       335 bytes IOStream                   \n",
       "  fs        96 bytes Base.Filesystem.StatStruct \n",
       "  header   1.180 KiB 1×2 Matrix{AbstractString} \n",
       "  io        88 bytes IOBuffer                   \n",
       "  m1       5.719 KiB Module                     \n",
       "  m2       4.846 KiB Module                     \n",
       "  nc         8 bytes Int64                      \n",
       "  nr         8 bytes Int64                      \n",
       "  old_dir   60 bytes 52-codeunit String         \n",
       "  p         96 bytes Dates.CompoundPeriod       \n",
       "  str       38 bytes 30-codeunit String         \n",
       "  t          8 bytes DateTime                   \n",
       "  x        840 bytes 100-element Vector{Int64}  \n",
       "  y        840 bytes 100-element Vector{Float64}"
      ]
     },
     "execution_count": 383,
     "metadata": {},
     "output_type": "execute_result"
    },
    {
     "data": {
      "text/latex": [
       "\\begin{tabular}\n",
       "{l | r | l}\n",
       "name & size & summary \\\\\n",
       "\\hline\n",
       "A & 136 bytes & 3×4 Matrix\\{Float64\\} \\\\\n",
       "A2 & 0 bytes & Nothing \\\\\n",
       "Base &  & Module \\\\\n",
       "Core &  & Module \\\\\n",
       "Main &  & Module \\\\\n",
       "c & 64.299 KiB & TCPSocket \\\\\n",
       "d & 8 bytes & Date \\\\\n",
       "data & 1.602 KiB & 100×2 Matrix\\{Float64\\} \\\\\n",
       "fd & 335 bytes & IOStream \\\\\n",
       "fs & 96 bytes & Base.Filesystem.StatStruct \\\\\n",
       "header & 1.180 KiB & 1×2 Matrix\\{AbstractString\\} \\\\\n",
       "io & 88 bytes & IOBuffer \\\\\n",
       "m1 & 5.719 KiB & Module \\\\\n",
       "m2 & 4.846 KiB & Module \\\\\n",
       "nc & 8 bytes & Int64 \\\\\n",
       "nr & 8 bytes & Int64 \\\\\n",
       "old\\_dir & 60 bytes & 52-codeunit String \\\\\n",
       "p & 96 bytes & Dates.CompoundPeriod \\\\\n",
       "str & 38 bytes & 30-codeunit String \\\\\n",
       "t & 8 bytes & DateTime \\\\\n",
       "x & 840 bytes & 100-element Vector\\{Int64\\} \\\\\n",
       "y & 840 bytes & 100-element Vector\\{Float64\\} \\\\\n",
       "\\end{tabular}\n"
      ],
      "text/markdown": [
       "| name    |       size | summary                     |\n",
       "|:------- | ----------:|:--------------------------- |\n",
       "| A       |  136 bytes | 3×4 Matrix{Float64}         |\n",
       "| A2      |    0 bytes | Nothing                     |\n",
       "| Base    |            | Module                      |\n",
       "| Core    |            | Module                      |\n",
       "| Main    |            | Module                      |\n",
       "| c       | 64.299 KiB | TCPSocket                   |\n",
       "| d       |    8 bytes | Date                        |\n",
       "| data    |  1.602 KiB | 100×2 Matrix{Float64}       |\n",
       "| fd      |  335 bytes | IOStream                    |\n",
       "| fs      |   96 bytes | Base.Filesystem.StatStruct  |\n",
       "| header  |  1.180 KiB | 1×2 Matrix{AbstractString}  |\n",
       "| io      |   88 bytes | IOBuffer                    |\n",
       "| m1      |  5.719 KiB | Module                      |\n",
       "| m2      |  4.846 KiB | Module                      |\n",
       "| nc      |    8 bytes | Int64                       |\n",
       "| nr      |    8 bytes | Int64                       |\n",
       "| old_dir |   60 bytes | 52-codeunit String          |\n",
       "| p       |   96 bytes | Dates.CompoundPeriod        |\n",
       "| str     |   38 bytes | 30-codeunit String          |\n",
       "| t       |    8 bytes | DateTime                    |\n",
       "| x       |  840 bytes | 100-element Vector{Int64}   |\n",
       "| y       |  840 bytes | 100-element Vector{Float64} |\n"
      ],
      "text/plain": [
       "  name          size summary                    \n",
       "  ––––––– –––––––––– –––––––––––––––––––––––––––\n",
       "  A        136 bytes 3×4 Matrix{Float64}        \n",
       "  A2         0 bytes Nothing                    \n",
       "  Base               Module                     \n",
       "  Core               Module                     \n",
       "  Main               Module                     \n",
       "  c       64.299 KiB TCPSocket                  \n",
       "  d          8 bytes Date                       \n",
       "  data     1.602 KiB 100×2 Matrix{Float64}      \n",
       "  fd       335 bytes IOStream                   \n",
       "  fs        96 bytes Base.Filesystem.StatStruct \n",
       "  header   1.180 KiB 1×2 Matrix{AbstractString} \n",
       "  io        88 bytes IOBuffer                   \n",
       "  m1       5.719 KiB Module                     \n",
       "  m2       4.846 KiB Module                     \n",
       "  nc         8 bytes Int64                      \n",
       "  nr         8 bytes Int64                      \n",
       "  old_dir   60 bytes 52-codeunit String         \n",
       "  p         96 bytes Dates.CompoundPeriod       \n",
       "  str       38 bytes 30-codeunit String         \n",
       "  t          8 bytes DateTime                   \n",
       "  x        840 bytes 100-element Vector{Int64}  \n",
       "  y        840 bytes 100-element Vector{Float64}"
      ]
     },
     "execution_count": 383,
     "metadata": {},
     "output_type": "execute_result"
    }
   ],
   "source": [
    "varinfo()"
   ]
  },
  {
   "cell_type": "code",
   "execution_count": 384,
   "metadata": {},
   "outputs": [
    {
     "data": {
      "text/plain": [
       "1"
      ]
     },
     "execution_count": 384,
     "metadata": {},
     "output_type": "execute_result"
    },
    {
     "data": {
      "text/plain": [
       "1"
      ]
     },
     "execution_count": 384,
     "metadata": {},
     "output_type": "execute_result"
    }
   ],
   "source": [
    "x = 1"
   ]
  },
  {
   "cell_type": "code",
   "execution_count": 385,
   "metadata": {},
   "outputs": [
    {
     "data": {
      "text/latex": [
       "\\begin{tabular}\n",
       "{l | r | l}\n",
       "name & size & summary \\\\\n",
       "\\hline\n",
       "A & 136 bytes & 3×4 Matrix\\{Float64\\} \\\\\n",
       "A2 & 0 bytes & Nothing \\\\\n",
       "Base &  & Module \\\\\n",
       "Core &  & Module \\\\\n",
       "Main &  & Module \\\\\n",
       "c & 64.299 KiB & TCPSocket \\\\\n",
       "d & 8 bytes & Date \\\\\n",
       "data & 1.602 KiB & 100×2 Matrix\\{Float64\\} \\\\\n",
       "fd & 335 bytes & IOStream \\\\\n",
       "fs & 96 bytes & Base.Filesystem.StatStruct \\\\\n",
       "header & 1.180 KiB & 1×2 Matrix\\{AbstractString\\} \\\\\n",
       "io & 88 bytes & IOBuffer \\\\\n",
       "m1 & 5.719 KiB & Module \\\\\n",
       "m2 & 4.846 KiB & Module \\\\\n",
       "nc & 8 bytes & Int64 \\\\\n",
       "nr & 8 bytes & Int64 \\\\\n",
       "old\\_dir & 60 bytes & 52-codeunit String \\\\\n",
       "p & 96 bytes & Dates.CompoundPeriod \\\\\n",
       "str & 38 bytes & 30-codeunit String \\\\\n",
       "t & 8 bytes & DateTime \\\\\n",
       "x & 8 bytes & Int64 \\\\\n",
       "y & 840 bytes & 100-element Vector\\{Float64\\} \\\\\n",
       "\\end{tabular}\n"
      ],
      "text/markdown": [
       "| name    |       size | summary                     |\n",
       "|:------- | ----------:|:--------------------------- |\n",
       "| A       |  136 bytes | 3×4 Matrix{Float64}         |\n",
       "| A2      |    0 bytes | Nothing                     |\n",
       "| Base    |            | Module                      |\n",
       "| Core    |            | Module                      |\n",
       "| Main    |            | Module                      |\n",
       "| c       | 64.299 KiB | TCPSocket                   |\n",
       "| d       |    8 bytes | Date                        |\n",
       "| data    |  1.602 KiB | 100×2 Matrix{Float64}       |\n",
       "| fd      |  335 bytes | IOStream                    |\n",
       "| fs      |   96 bytes | Base.Filesystem.StatStruct  |\n",
       "| header  |  1.180 KiB | 1×2 Matrix{AbstractString}  |\n",
       "| io      |   88 bytes | IOBuffer                    |\n",
       "| m1      |  5.719 KiB | Module                      |\n",
       "| m2      |  4.846 KiB | Module                      |\n",
       "| nc      |    8 bytes | Int64                       |\n",
       "| nr      |    8 bytes | Int64                       |\n",
       "| old_dir |   60 bytes | 52-codeunit String          |\n",
       "| p       |   96 bytes | Dates.CompoundPeriod        |\n",
       "| str     |   38 bytes | 30-codeunit String          |\n",
       "| t       |    8 bytes | DateTime                    |\n",
       "| x       |    8 bytes | Int64                       |\n",
       "| y       |  840 bytes | 100-element Vector{Float64} |\n"
      ],
      "text/plain": [
       "  name          size summary                    \n",
       "  ––––––– –––––––––– –––––––––––––––––––––––––––\n",
       "  A        136 bytes 3×4 Matrix{Float64}        \n",
       "  A2         0 bytes Nothing                    \n",
       "  Base               Module                     \n",
       "  Core               Module                     \n",
       "  Main               Module                     \n",
       "  c       64.299 KiB TCPSocket                  \n",
       "  d          8 bytes Date                       \n",
       "  data     1.602 KiB 100×2 Matrix{Float64}      \n",
       "  fd       335 bytes IOStream                   \n",
       "  fs        96 bytes Base.Filesystem.StatStruct \n",
       "  header   1.180 KiB 1×2 Matrix{AbstractString} \n",
       "  io        88 bytes IOBuffer                   \n",
       "  m1       5.719 KiB Module                     \n",
       "  m2       4.846 KiB Module                     \n",
       "  nc         8 bytes Int64                      \n",
       "  nr         8 bytes Int64                      \n",
       "  old_dir   60 bytes 52-codeunit String         \n",
       "  p         96 bytes Dates.CompoundPeriod       \n",
       "  str       38 bytes 30-codeunit String         \n",
       "  t          8 bytes DateTime                   \n",
       "  x          8 bytes Int64                      \n",
       "  y        840 bytes 100-element Vector{Float64}"
      ]
     },
     "execution_count": 385,
     "metadata": {},
     "output_type": "execute_result"
    },
    {
     "data": {
      "text/latex": [
       "\\begin{tabular}\n",
       "{l | r | l}\n",
       "name & size & summary \\\\\n",
       "\\hline\n",
       "A & 136 bytes & 3×4 Matrix\\{Float64\\} \\\\\n",
       "A2 & 0 bytes & Nothing \\\\\n",
       "Base &  & Module \\\\\n",
       "Core &  & Module \\\\\n",
       "Main &  & Module \\\\\n",
       "c & 64.299 KiB & TCPSocket \\\\\n",
       "d & 8 bytes & Date \\\\\n",
       "data & 1.602 KiB & 100×2 Matrix\\{Float64\\} \\\\\n",
       "fd & 335 bytes & IOStream \\\\\n",
       "fs & 96 bytes & Base.Filesystem.StatStruct \\\\\n",
       "header & 1.180 KiB & 1×2 Matrix\\{AbstractString\\} \\\\\n",
       "io & 88 bytes & IOBuffer \\\\\n",
       "m1 & 5.719 KiB & Module \\\\\n",
       "m2 & 4.846 KiB & Module \\\\\n",
       "nc & 8 bytes & Int64 \\\\\n",
       "nr & 8 bytes & Int64 \\\\\n",
       "old\\_dir & 60 bytes & 52-codeunit String \\\\\n",
       "p & 96 bytes & Dates.CompoundPeriod \\\\\n",
       "str & 38 bytes & 30-codeunit String \\\\\n",
       "t & 8 bytes & DateTime \\\\\n",
       "x & 8 bytes & Int64 \\\\\n",
       "y & 840 bytes & 100-element Vector\\{Float64\\} \\\\\n",
       "\\end{tabular}\n"
      ],
      "text/markdown": [
       "| name    |       size | summary                     |\n",
       "|:------- | ----------:|:--------------------------- |\n",
       "| A       |  136 bytes | 3×4 Matrix{Float64}         |\n",
       "| A2      |    0 bytes | Nothing                     |\n",
       "| Base    |            | Module                      |\n",
       "| Core    |            | Module                      |\n",
       "| Main    |            | Module                      |\n",
       "| c       | 64.299 KiB | TCPSocket                   |\n",
       "| d       |    8 bytes | Date                        |\n",
       "| data    |  1.602 KiB | 100×2 Matrix{Float64}       |\n",
       "| fd      |  335 bytes | IOStream                    |\n",
       "| fs      |   96 bytes | Base.Filesystem.StatStruct  |\n",
       "| header  |  1.180 KiB | 1×2 Matrix{AbstractString}  |\n",
       "| io      |   88 bytes | IOBuffer                    |\n",
       "| m1      |  5.719 KiB | Module                      |\n",
       "| m2      |  4.846 KiB | Module                      |\n",
       "| nc      |    8 bytes | Int64                       |\n",
       "| nr      |    8 bytes | Int64                       |\n",
       "| old_dir |   60 bytes | 52-codeunit String          |\n",
       "| p       |   96 bytes | Dates.CompoundPeriod        |\n",
       "| str     |   38 bytes | 30-codeunit String          |\n",
       "| t       |    8 bytes | DateTime                    |\n",
       "| x       |    8 bytes | Int64                       |\n",
       "| y       |  840 bytes | 100-element Vector{Float64} |\n"
      ],
      "text/plain": [
       "  name          size summary                    \n",
       "  ––––––– –––––––––– –––––––––––––––––––––––––––\n",
       "  A        136 bytes 3×4 Matrix{Float64}        \n",
       "  A2         0 bytes Nothing                    \n",
       "  Base               Module                     \n",
       "  Core               Module                     \n",
       "  Main               Module                     \n",
       "  c       64.299 KiB TCPSocket                  \n",
       "  d          8 bytes Date                       \n",
       "  data     1.602 KiB 100×2 Matrix{Float64}      \n",
       "  fd       335 bytes IOStream                   \n",
       "  fs        96 bytes Base.Filesystem.StatStruct \n",
       "  header   1.180 KiB 1×2 Matrix{AbstractString} \n",
       "  io        88 bytes IOBuffer                   \n",
       "  m1       5.719 KiB Module                     \n",
       "  m2       4.846 KiB Module                     \n",
       "  nc         8 bytes Int64                      \n",
       "  nr         8 bytes Int64                      \n",
       "  old_dir   60 bytes 52-codeunit String         \n",
       "  p         96 bytes Dates.CompoundPeriod       \n",
       "  str       38 bytes 30-codeunit String         \n",
       "  t          8 bytes DateTime                   \n",
       "  x          8 bytes Int64                      \n",
       "  y        840 bytes 100-element Vector{Float64}"
      ]
     },
     "execution_count": 385,
     "metadata": {},
     "output_type": "execute_result"
    }
   ],
   "source": [
    "varinfo()"
   ]
  },
  {
   "cell_type": "markdown",
   "metadata": {},
   "source": [
    "## 9.3 System\n",
    "\n",
    "The submodule that interacts with the operating system. System command execution being one of them. "
   ]
  },
  {
   "cell_type": "code",
   "execution_count": 386,
   "metadata": {},
   "outputs": [
    {
     "name": "stdout",
     "output_type": "stream",
     "text": [
      " Volume in drive C is OS\n",
      " Volume Serial Number is 244C-B574\n",
      "\n",
      " Directory of C:\\Users\\vishn\\Hands-on-Julia-Programming\\Chapter 09\n",
      "\n",
      "01-10-2022  23:04    <DIR>          .\n",
      "01-10-2022  23:04    <DIR>          ..\n",
      "01-10-2022  22:58    <DIR>          .ipynb_checkpoints\n",
      "01-10-2022  23:02            29,020 Chapter-9 Standard Libraries.ipynb\n",
      "01-10-2022  23:04         6,949,901 julia-1.5.3.tar.gz\n",
      "01-10-2022  23:02             5,151 Manifest.toml\n",
      "01-10-2022  23:02                55 Project.toml\n",
      "               4 File(s)      6,984,127 bytes\n",
      "               3 Dir(s)  49,685,606,400 bytes free\n"
     ]
    },
    {
     "data": {
      "text/plain": [
       "Process(`\u001b[4mcmd\u001b[24m \u001b[4m/c\u001b[24m \u001b[4mdir\u001b[24m`, ProcessExited(0))"
      ]
     },
     "execution_count": 386,
     "metadata": {},
     "output_type": "execute_result"
    },
    {
     "name": "stdout",
     "output_type": "stream",
     "text": [
      " Volume in drive C is OS\n",
      " Volume Serial Number is 244C-B574\n",
      "\n",
      " Directory of C:\\Users\\vishn\\Hands-on-Julia-Programming\\Chapter 09\n",
      "\n",
      "01-10-2022  23:04    <DIR>          .\n",
      "01-10-2022  23:04    <DIR>          ..\n",
      "01-10-2022  22:58    <DIR>          .ipynb_checkpoints\n",
      "01-10-2022  23:02            29,020 Chapter-9 Standard Libraries.ipynb\n",
      "01-10-2022  23:04         6,949,901 julia-1.5.3.tar.gz\n",
      "01-10-2022  23:02             5,151 Manifest.toml\n",
      "01-10-2022  23:02                55 Project.toml\n",
      "               4 File(s)      6,984,127 bytes\n",
      "               3 Dir(s)  49,685,606,400 bytes free\n"
     ]
    },
    {
     "data": {
      "text/plain": [
       "Process(`\u001b[4mcmd\u001b[24m \u001b[4m/c\u001b[24m \u001b[4mdir\u001b[24m`, ProcessExited(0))"
      ]
     },
     "execution_count": 386,
     "metadata": {},
     "output_type": "execute_result"
    }
   ],
   "source": [
    "run(`cmd /c dir`)"
   ]
  },
  {
   "cell_type": "code",
   "execution_count": 387,
   "metadata": {},
   "outputs": [
    {
     "data": {
      "text/plain": [
       "(false, true)"
      ]
     },
     "execution_count": 387,
     "metadata": {},
     "output_type": "execute_result"
    },
    {
     "data": {
      "text/plain": [
       "(false, true)"
      ]
     },
     "execution_count": 387,
     "metadata": {},
     "output_type": "execute_result"
    }
   ],
   "source": [
    "Sys.isunix(), Sys.iswindows()"
   ]
  },
  {
   "cell_type": "markdown",
   "metadata": {},
   "source": [
    "## 9.4 Filesystem\n",
    "\n",
    "File organization and manipulation (not read and write). "
   ]
  },
  {
   "cell_type": "code",
   "execution_count": 388,
   "metadata": {},
   "outputs": [
    {
     "data": {
      "text/plain": [
       "\"C:\\\\Users\\\\vishn\\\\Hands-on-Julia-Programming\\\\Chapter 09\""
      ]
     },
     "execution_count": 388,
     "metadata": {},
     "output_type": "execute_result"
    },
    {
     "data": {
      "text/plain": [
       "\"C:\\\\Users\\\\vishn\\\\Hands-on-Julia-Programming\\\\Chapter 09\""
      ]
     },
     "execution_count": 388,
     "metadata": {},
     "output_type": "execute_result"
    }
   ],
   "source": [
    "old_dir = pwd()"
   ]
  },
  {
   "cell_type": "code",
   "execution_count": 389,
   "metadata": {},
   "outputs": [],
   "source": [
    "cd(\"..\")"
   ]
  },
  {
   "cell_type": "code",
   "execution_count": 390,
   "metadata": {},
   "outputs": [
    {
     "data": {
      "text/plain": [
       "\"C:\\\\Users\\\\vishn\\\\Hands-on-Julia-Programming\""
      ]
     },
     "execution_count": 390,
     "metadata": {},
     "output_type": "execute_result"
    },
    {
     "data": {
      "text/plain": [
       "\"C:\\\\Users\\\\vishn\\\\Hands-on-Julia-Programming\""
      ]
     },
     "execution_count": 390,
     "metadata": {},
     "output_type": "execute_result"
    }
   ],
   "source": [
    "pwd()"
   ]
  },
  {
   "cell_type": "code",
   "execution_count": 391,
   "metadata": {},
   "outputs": [],
   "source": [
    "cd(old_dir)"
   ]
  },
  {
   "cell_type": "code",
   "execution_count": 392,
   "metadata": {},
   "outputs": [
    {
     "data": {
      "text/plain": [
       "\"C:\\\\Users\\\\vishn\\\\Hands-on-Julia-Programming\\\\Chapter 09\""
      ]
     },
     "execution_count": 392,
     "metadata": {},
     "output_type": "execute_result"
    },
    {
     "data": {
      "text/plain": [
       "\"C:\\\\Users\\\\vishn\\\\Hands-on-Julia-Programming\\\\Chapter 09\""
      ]
     },
     "execution_count": 392,
     "metadata": {},
     "output_type": "execute_result"
    }
   ],
   "source": [
    "pwd()"
   ]
  },
  {
   "cell_type": "code",
   "execution_count": 393,
   "metadata": {},
   "outputs": [
    {
     "data": {
      "text/plain": [
       "\"C:\\\\Users\\\\vishn\\\\Hands-on-Julia-Programming\""
      ]
     },
     "execution_count": 393,
     "metadata": {},
     "output_type": "execute_result"
    },
    {
     "data": {
      "text/plain": [
       "\"C:\\\\Users\\\\vishn\\\\Hands-on-Julia-Programming\""
      ]
     },
     "execution_count": 393,
     "metadata": {},
     "output_type": "execute_result"
    }
   ],
   "source": [
    "cd(\"..\"); pwd()"
   ]
  },
  {
   "cell_type": "code",
   "execution_count": 394,
   "metadata": {},
   "outputs": [
    {
     "data": {
      "text/plain": [
       "20-element Vector{String}:\n",
       " \".DS_Store\"\n",
       " \".git\"\n",
       " \"Chapter 02\"\n",
       " \"Chapter 03\"\n",
       " \"Chapter 04\"\n",
       " \"Chapter 05\"\n",
       " \"Chapter 06\"\n",
       " \"Chapter 07\"\n",
       " \"Chapter 08\"\n",
       " \"Chapter 09\"\n",
       " \"Chapter 10\"\n",
       " \"Chapter 11\"\n",
       " \"Chapter 12\"\n",
       " \"Chapter 13\"\n",
       " \"Chapter 14\"\n",
       " \"Chapter 15\"\n",
       " \"Chapter 16\"\n",
       " \"Chapter 17\"\n",
       " \"LICENSE\"\n",
       " \"README.md\""
      ]
     },
     "execution_count": 394,
     "metadata": {},
     "output_type": "execute_result"
    },
    {
     "data": {
      "text/plain": [
       "20-element Vector{String}:\n",
       " \".DS_Store\"\n",
       " \".git\"\n",
       " \"Chapter 02\"\n",
       " \"Chapter 03\"\n",
       " \"Chapter 04\"\n",
       " \"Chapter 05\"\n",
       " \"Chapter 06\"\n",
       " \"Chapter 07\"\n",
       " \"Chapter 08\"\n",
       " \"Chapter 09\"\n",
       " \"Chapter 10\"\n",
       " \"Chapter 11\"\n",
       " \"Chapter 12\"\n",
       " \"Chapter 13\"\n",
       " \"Chapter 14\"\n",
       " \"Chapter 15\"\n",
       " \"Chapter 16\"\n",
       " \"Chapter 17\"\n",
       " \"LICENSE\"\n",
       " \"README.md\""
      ]
     },
     "execution_count": 394,
     "metadata": {},
     "output_type": "execute_result"
    }
   ],
   "source": [
    "readdir()  #Same as readdir(pwd())"
   ]
  },
  {
   "cell_type": "code",
   "execution_count": 395,
   "metadata": {},
   "outputs": [
    {
     "ename": "LoadError",
     "evalue": "IOError: readdir(\"Chapter-09\"): no such file or directory (ENOENT)",
     "output_type": "error",
     "traceback": [
      "IOError: readdir(\"Chapter-09\"): no such file or directory (ENOENT)",
      "",
      "Stacktrace:",
      " [1] check_channel_state",
      "   @ .\\channels.jl:170 [inlined]",
      " [2] take_unbuffered(c::Channel{Tuple{String, Vector{String}, Vector{String}}})",
      "   @ Base .\\channels.jl:403",
      " [3] take!",
      "   @ .\\channels.jl:383 [inlined]",
      " [4] iterate(c::Channel{Tuple{String, Vector{String}, Vector{String}}}, state::Nothing)",
      "   @ Base .\\channels.jl:465",
      " [5] iterate",
      "   @ .\\channels.jl:464 [inlined]",
      " [6] top-level scope",
      "   @ .\\In[395]:1",
      " [7] eval",
      "   @ .\\boot.jl:360 [inlined]",
      " [8] include_string(mapexpr::typeof(REPL.softscope), mod::Module, code::String, filename::String)",
      "   @ Base .\\loading.jl:1116"
     ]
    },
    {
     "ename": "LoadError",
     "evalue": "IOError: readdir(\"Chapter-09\"): no such file or directory (ENOENT)",
     "output_type": "error",
     "traceback": [
      "IOError: readdir(\"Chapter-09\"): no such file or directory (ENOENT)",
      "",
      "Stacktrace:",
      " [1] check_channel_state",
      "   @ .\\channels.jl:170 [inlined]",
      " [2] take_unbuffered(c::Channel{Tuple{String, Vector{String}, Vector{String}}})",
      "   @ Base .\\channels.jl:403",
      " [3] take!",
      "   @ .\\channels.jl:383 [inlined]",
      " [4] iterate(c::Channel{Tuple{String, Vector{String}, Vector{String}}}, state::Nothing)",
      "   @ Base .\\channels.jl:465",
      " [5] iterate",
      "   @ .\\channels.jl:464 [inlined]",
      " [6] top-level scope",
      "   @ .\\In[395]:1",
      " [7] eval",
      "   @ .\\boot.jl:360 [inlined]",
      " [8] include_string(mapexpr::typeof(REPL.softscope), mod::Module, code::String, filename::String)",
      "   @ Base .\\loading.jl:1116"
     ]
    }
   ],
   "source": [
    "for (root, dirs, files) in walkdir(\"Chapter-09\")\n",
    "    println(\"Directories in $root\")\n",
    "    for dir in dirs\n",
    "        println(joinpath(root, dir)) # path to directories\n",
    "    end\n",
    "    println(\"Files in $root\")\n",
    "    for file in files\n",
    "        println(joinpath(root, file)) # path to files\n",
    "    end\n",
    "end"
   ]
  },
  {
   "cell_type": "code",
   "execution_count": 396,
   "metadata": {},
   "outputs": [
    {
     "data": {
      "text/plain": [
       "\"C:\\\\Users\\\\vishn\\\\Hands-on-Julia-Programming\\\\Chapter 09\""
      ]
     },
     "execution_count": 396,
     "metadata": {},
     "output_type": "execute_result"
    },
    {
     "data": {
      "text/plain": [
       "\"C:\\\\Users\\\\vishn\\\\Hands-on-Julia-Programming\\\\Chapter 09\""
      ]
     },
     "execution_count": 396,
     "metadata": {},
     "output_type": "execute_result"
    }
   ],
   "source": [
    "cd(old_dir); pwd()"
   ]
  },
  {
   "cell_type": "code",
   "execution_count": 397,
   "metadata": {},
   "outputs": [
    {
     "data": {
      "text/plain": [
       "StatStruct(mode=0o100666, size=29020)"
      ]
     },
     "execution_count": 397,
     "metadata": {},
     "output_type": "execute_result"
    },
    {
     "data": {
      "text/plain": [
       "StatStruct(mode=0o100666, size=29020)"
      ]
     },
     "execution_count": 397,
     "metadata": {},
     "output_type": "execute_result"
    }
   ],
   "source": [
    "fs = stat(\"Chapter-9 Standard Libraries.ipynb\")"
   ]
  },
  {
   "cell_type": "markdown",
   "metadata": {},
   "source": [
    "## 9.5 Parallel Programming\n",
    "\n",
    "Execution of programs in tandem in various execution environments, yet be able to obtain meaningful and synchronized results. Performance and resource utilization are two major outcomes of this kind of programming. "
   ]
  },
  {
   "cell_type": "markdown",
   "metadata": {},
   "source": [
    "### Asynchronous Programming\n",
    "\n",
    "Breaking the code into small chunks of executable pieces that can be executed in parallel. Depending on the kind of processing permitted by the hardware and OS, these may run in one execution thread or multiple."
   ]
  },
  {
   "cell_type": "markdown",
   "metadata": {},
   "source": [
    "#### Tasks"
   ]
  },
  {
   "cell_type": "code",
   "execution_count": 398,
   "metadata": {},
   "outputs": [
    {
     "data": {
      "text/plain": [
       "Task (runnable) @0x000000000eb7ce20"
      ]
     },
     "execution_count": 398,
     "metadata": {},
     "output_type": "execute_result"
    },
    {
     "data": {
      "text/plain": [
       "Task (runnable) @0x000000000eb7ce20"
      ]
     },
     "execution_count": 398,
     "metadata": {},
     "output_type": "execute_result"
    }
   ],
   "source": [
    "t = Task() do \n",
    "    sleep(10)\n",
    "    println(\"done\")\n",
    "end"
   ]
  },
  {
   "cell_type": "code",
   "execution_count": 399,
   "metadata": {},
   "outputs": [
    {
     "data": {
      "text/plain": [
       "Task (runnable) @0x000000000eb7ce20"
      ]
     },
     "execution_count": 399,
     "metadata": {},
     "output_type": "execute_result"
    },
    {
     "data": {
      "text/plain": [
       "Task (runnable) @0x000000000eb7ce20"
      ]
     },
     "execution_count": 399,
     "metadata": {},
     "output_type": "execute_result"
    }
   ],
   "source": [
    "schedule(t)"
   ]
  },
  {
   "cell_type": "code",
   "execution_count": 400,
   "metadata": {},
   "outputs": [
    {
     "data": {
      "text/plain": [
       "Task (runnable) @0x000000000eb7d780"
      ]
     },
     "execution_count": 400,
     "metadata": {},
     "output_type": "execute_result"
    },
    {
     "data": {
      "text/plain": [
       "Task (runnable) @0x000000000eb7d780"
      ]
     },
     "execution_count": 400,
     "metadata": {},
     "output_type": "execute_result"
    }
   ],
   "source": [
    "t = Task() do \n",
    "    sleep(10)\n",
    "    println(\"done\")\n",
    "end"
   ]
  },
  {
   "cell_type": "code",
   "execution_count": 401,
   "metadata": {},
   "outputs": [
    {
     "name": "stdout",
     "output_type": "stream",
     "text": [
      "Step: 68\n",
      "Step: 68\n",
      "Step: 5\n",
      "Step: 25\n",
      "Step: 5\n",
      "Step: 25\n",
      "Step: 69\n",
      "Step: 69\n",
      "Step: 6\n",
      "Step: 6\n",
      "Step: 26\n",
      "Step: 26\n",
      "Step: 70\n",
      "Step: 70\n",
      "Step: 7\n",
      "Step: 27\n",
      "Step: 7\n",
      "Step: 27\n",
      "Step: 71\n",
      "Step: 71\n",
      "Step: 8\n",
      "Step: 28\n",
      "Step: 8\n",
      "Step: 28\n",
      "Step: 72\n",
      "Step: 72\n",
      "Step: 9\n",
      "Step: 29\n",
      "Step: 9\n",
      "Step: 29\n",
      "Step: 73\n",
      "Step: 73\n",
      "Step: 10\n",
      "Step: 30\n",
      "Step: 10\n",
      "Step: 30\n",
      "Step: 74\n",
      "Step: 74\n",
      "Step: 11\n",
      "Step: 31\n",
      "Step: 11\n",
      "Step: 31\n",
      "Step: 75\n",
      "Step: 75\n",
      "Step: 12\n",
      "Step: 32\n",
      "Step: 12\n",
      "Step: 32\n",
      "Step: 76\n",
      "Step: 76\n",
      "Step: 13\n",
      "Step: 33\n",
      "Step: 13\n",
      "Step: 33\n",
      "Step: 77\n",
      "Step: 77\n",
      "Step: 14\n",
      "Step: 34\n",
      "Step: 14\n",
      "Step: 34\n",
      "done\n",
      "done\n",
      "done\n",
      "done\n"
     ]
    }
   ],
   "source": [
    "schedule(t); wait(t)"
   ]
  },
  {
   "cell_type": "code",
   "execution_count": 402,
   "metadata": {},
   "outputs": [
    {
     "data": {
      "text/plain": [
       "Task (runnable) @0x000000000eb7e270"
      ]
     },
     "execution_count": 402,
     "metadata": {},
     "output_type": "execute_result"
    },
    {
     "data": {
      "text/plain": [
       "Task (runnable) @0x000000000eb7e270"
      ]
     },
     "execution_count": 402,
     "metadata": {},
     "output_type": "execute_result"
    }
   ],
   "source": [
    "t = @task begin\n",
    "    sleep(5)\n",
    "    println(\"done\")\n",
    "end"
   ]
  },
  {
   "cell_type": "code",
   "execution_count": 403,
   "metadata": {},
   "outputs": [
    {
     "name": "stdout",
     "output_type": "stream",
     "text": [
      "Step: 78\n",
      "Step: 78\n",
      "Step: 15\n",
      "Step: 35\n",
      "Step: 15\n",
      "Step: 35\n",
      "Step: 79\n",
      "Step: 79\n",
      "Step: 16\n",
      "Step: 16\n",
      "Step: 36\n",
      "Step: 36\n",
      "Step: 80\n",
      "Step: 80\n",
      "Step: 17\n",
      "Step: 37\n",
      "Step: 17\n",
      "Step: 37\n",
      "Step: 81\n",
      "Step: 81\n",
      "Step: 18\n",
      "Step: 38\n",
      "Step: 18\n",
      "Step: 38\n",
      "Step: 82\n",
      "Step: 82\n",
      "Step: 19\n",
      "Step: 19\n",
      "Step: 39\n",
      "Step: 39\n",
      "done\n",
      "done\n"
     ]
    }
   ],
   "source": [
    "@sync  begin\n",
    "    sleep(5)\n",
    "    println(\"done\")\n",
    "end"
   ]
  },
  {
   "cell_type": "markdown",
   "metadata": {},
   "source": [
    "#### Channels"
   ]
  },
  {
   "cell_type": "code",
   "execution_count": 404,
   "metadata": {},
   "outputs": [
    {
     "data": {
      "text/plain": [
       "Channel{Any}(8) (empty)"
      ]
     },
     "execution_count": 404,
     "metadata": {},
     "output_type": "execute_result"
    },
    {
     "data": {
      "text/plain": [
       "Channel{Any}(8) (empty)"
      ]
     },
     "execution_count": 404,
     "metadata": {},
     "output_type": "execute_result"
    }
   ],
   "source": [
    "c = Channel(8)"
   ]
  },
  {
   "cell_type": "code",
   "execution_count": 405,
   "metadata": {},
   "outputs": [
    {
     "data": {
      "text/plain": [
       "Channel{Int64}(4) (empty)"
      ]
     },
     "execution_count": 405,
     "metadata": {},
     "output_type": "execute_result"
    },
    {
     "data": {
      "text/plain": [
       "Channel{Int64}(4) (empty)"
      ]
     },
     "execution_count": 405,
     "metadata": {},
     "output_type": "execute_result"
    }
   ],
   "source": [
    "c = Channel{Int}(4)"
   ]
  },
  {
   "cell_type": "code",
   "execution_count": 406,
   "metadata": {},
   "outputs": [
    {
     "data": {
      "text/plain": [
       "Task (runnable) @0x000000000eb7e590"
      ]
     },
     "execution_count": 406,
     "metadata": {},
     "output_type": "execute_result"
    },
    {
     "data": {
      "text/plain": [
       "Task (runnable) @0x000000000eb7e590"
      ]
     },
     "execution_count": 406,
     "metadata": {},
     "output_type": "execute_result"
    },
    {
     "name": "stdout",
     "output_type": "stream",
     "text": [
      "Adding 1 to channel\n",
      "Adding 1 to channel\n"
     ]
    }
   ],
   "source": [
    "@async begin\n",
    "    for i = 1:100\n",
    "        println(\"Adding $i to channel\")\n",
    "        put!(c, i)\n",
    "    end\n",
    "end\n",
    "\n",
    "@async begin\n",
    "    for i = 1:100\n",
    "        v = take!(c)\n",
    "        println(\"Removing value: $v\")\n",
    "    end\n",
    "end"
   ]
  },
  {
   "cell_type": "code",
   "execution_count": 407,
   "metadata": {},
   "outputs": [
    {
     "name": "stdout",
     "output_type": "stream",
     "text": [
      "Adding 2 to channel\n",
      "Adding 3 to channel\n",
      "Removing value: 1\n",
      "Removing value: 2\n",
      "Adding 2 to channel\n",
      "Adding 3 to channel\n",
      "Removing value: 1\n",
      "Removing value: 2\n"
     ]
    }
   ],
   "source": [
    "close(c)"
   ]
  },
  {
   "cell_type": "markdown",
   "metadata": {},
   "source": [
    "### Multithreading\n",
    "\n",
    "Julia can be made to run on a multiple threads mode. In such a conditions the tasks can be parallelized on these threads. Synchronization objects can be used across the executing threads. "
   ]
  },
  {
   "cell_type": "code",
   "execution_count": 408,
   "metadata": {},
   "outputs": [
    {
     "name": "stdout",
     "output_type": "stream",
     "text": [
      "Step: 83\n"
     ]
    },
    {
     "data": {
      "text/plain": [
       "1"
      ]
     },
     "execution_count": 408,
     "metadata": {},
     "output_type": "execute_result"
    },
    {
     "name": "stdout",
     "output_type": "stream",
     "text": [
      "Step: 83\n"
     ]
    },
    {
     "data": {
      "text/plain": [
       "1"
      ]
     },
     "execution_count": 408,
     "metadata": {},
     "output_type": "execute_result"
    }
   ],
   "source": [
    "Threads.nthreads()"
   ]
  },
  {
   "cell_type": "code",
   "execution_count": 409,
   "metadata": {},
   "outputs": [
    {
     "data": {
      "text/plain": [
       "Task (runnable) @0x000000000f650e20"
      ]
     },
     "execution_count": 409,
     "metadata": {},
     "output_type": "execute_result"
    },
    {
     "data": {
      "text/plain": [
       "Task (runnable) @0x000000000f650e20"
      ]
     },
     "execution_count": 409,
     "metadata": {},
     "output_type": "execute_result"
    }
   ],
   "source": [
    "Threads.@spawn for i=1:100\n",
    "    sleep(1)\n",
    "    println(\"Step: $i\")\n",
    "end"
   ]
  },
  {
   "cell_type": "markdown",
   "metadata": {},
   "source": [
    "### Distributed Computing\n",
    "\n",
    "This is cluster computing infrastrcuture, where a cluster can be configured across Julia processes in the same machine or in another machine. These independent processes can execute independently yet be able to share data, pass messages and communicate over a shared channel. "
   ]
  },
  {
   "cell_type": "markdown",
   "metadata": {},
   "source": [
    "## 9.6 IO and Network\n",
    "\n",
    "Julia accesses input and output devices as streams. The network devices are also interfaced like sockets. IO is an important stream based interface to understand. "
   ]
  },
  {
   "cell_type": "markdown",
   "metadata": {},
   "source": [
    "### Default Stream\n",
    "\n",
    "`stdin`, `stdout` and `stderr` are the standard streams for input, output and error in most processes. `stdin` integration with Jupyter is limited. All those samples may best be reviewed in a REPL console. "
   ]
  },
  {
   "cell_type": "code",
   "execution_count": 410,
   "metadata": {},
   "outputs": [
    {
     "name": "stdout",
     "output_type": "stream",
     "text": [
      "Hello WorldHello World"
     ]
    },
    {
     "data": {
      "text/plain": [
       "11"
      ]
     },
     "execution_count": 410,
     "metadata": {},
     "output_type": "execute_result"
    },
    {
     "data": {
      "text/plain": [
       "11"
      ]
     },
     "execution_count": 410,
     "metadata": {},
     "output_type": "execute_result"
    }
   ],
   "source": [
    "write(stdout, \"Hello World\")"
   ]
  },
  {
   "cell_type": "code",
   "execution_count": 411,
   "metadata": {},
   "outputs": [
    {
     "name": "stdout",
     "output_type": "stream",
     "text": [
      "∀ x ∃ y"
     ]
    },
    {
     "data": {
      "text/plain": [
       "11"
      ]
     },
     "execution_count": 411,
     "metadata": {},
     "output_type": "execute_result"
    },
    {
     "name": "stdout",
     "output_type": "stream",
     "text": [
      "∀ x ∃ y"
     ]
    },
    {
     "data": {
      "text/plain": [
       "11"
      ]
     },
     "execution_count": 411,
     "metadata": {},
     "output_type": "execute_result"
    }
   ],
   "source": [
    "write(stdout, \"\\u2200 x \\u2203 y\")"
   ]
  },
  {
   "cell_type": "markdown",
   "metadata": {},
   "source": [
    "### Text I/O"
   ]
  },
  {
   "cell_type": "markdown",
   "metadata": {},
   "source": [
    "### Binary I/O"
   ]
  },
  {
   "cell_type": "markdown",
   "metadata": {},
   "source": [
    "### File I/O\n",
    "\n",
    "Files are also accessed as `IO` streams for both read and write operations. However, the `IO` streams are obtained by `open` call. Any open stream must be closed with a `close` function call. "
   ]
  },
  {
   "cell_type": "code",
   "execution_count": 412,
   "metadata": {},
   "outputs": [
    {
     "data": {
      "text/plain": [
       "11"
      ]
     },
     "execution_count": 412,
     "metadata": {},
     "output_type": "execute_result"
    },
    {
     "data": {
      "text/plain": [
       "11"
      ]
     },
     "execution_count": 412,
     "metadata": {},
     "output_type": "execute_result"
    }
   ],
   "source": [
    "write(\"hello.txt\", \"Hello World\")"
   ]
  },
  {
   "cell_type": "code",
   "execution_count": 413,
   "metadata": {},
   "outputs": [],
   "source": [
    "fd = open(\"hello.txt\", \"r\");\n",
    "data = read(fd);"
   ]
  },
  {
   "cell_type": "code",
   "execution_count": 414,
   "metadata": {},
   "outputs": [
    {
     "ename": "LoadError",
     "evalue": "ArgumentError: write failed, IOStream is not writeable",
     "output_type": "error",
     "traceback": [
      "ArgumentError: write failed, IOStream is not writeable",
      "",
      "Stacktrace:",
      " [1] unsafe_write(s::IOStream, p::Ptr{UInt8}, nb::UInt64)",
      "   @ Base .\\iostream.jl:372",
      " [2] write(io::IOStream, s::String)",
      "   @ Base .\\strings\\io.jl:185",
      " [3] top-level scope",
      "   @ In[414]:1",
      " [4] eval",
      "   @ .\\boot.jl:360 [inlined]",
      " [5] include_string(mapexpr::typeof(REPL.softscope), mod::Module, code::String, filename::String)",
      "   @ Base .\\loading.jl:1116"
     ]
    },
    {
     "ename": "LoadError",
     "evalue": "ArgumentError: write failed, IOStream is not writeable",
     "output_type": "error",
     "traceback": [
      "ArgumentError: write failed, IOStream is not writeable",
      "",
      "Stacktrace:",
      " [1] unsafe_write(s::IOStream, p::Ptr{UInt8}, nb::UInt64)",
      "   @ Base .\\iostream.jl:372",
      " [2] write(io::IOStream, s::String)",
      "   @ Base .\\strings\\io.jl:185",
      " [3] top-level scope",
      "   @ In[414]:1",
      " [4] eval",
      "   @ .\\boot.jl:360 [inlined]",
      " [5] include_string(mapexpr::typeof(REPL.softscope), mod::Module, code::String, filename::String)",
      "   @ Base .\\loading.jl:1116"
     ]
    }
   ],
   "source": [
    "write(fd, \"This is second line\")"
   ]
  },
  {
   "cell_type": "code",
   "execution_count": 415,
   "metadata": {},
   "outputs": [
    {
     "name": "stdout",
     "output_type": "stream",
     "text": [
      "Hello WorldHello World"
     ]
    },
    {
     "data": {
      "text/plain": [
       "11"
      ]
     },
     "execution_count": 415,
     "metadata": {},
     "output_type": "execute_result"
    },
    {
     "data": {
      "text/plain": [
       "11"
      ]
     },
     "execution_count": 415,
     "metadata": {},
     "output_type": "execute_result"
    }
   ],
   "source": [
    "close(fd)\n",
    "write(stdout, data)"
   ]
  },
  {
   "cell_type": "code",
   "execution_count": 416,
   "metadata": {},
   "outputs": [
    {
     "name": "stdout",
     "output_type": "stream",
     "text": [
      "Hello World"
     ]
    },
    {
     "data": {
      "text/plain": [
       "11"
      ]
     },
     "execution_count": 416,
     "metadata": {},
     "output_type": "execute_result"
    },
    {
     "name": "stdout",
     "output_type": "stream",
     "text": [
      "Hello World"
     ]
    },
    {
     "data": {
      "text/plain": [
       "11"
      ]
     },
     "execution_count": 416,
     "metadata": {},
     "output_type": "execute_result"
    }
   ],
   "source": [
    "open(\"hello.txt\", \"r\") do fd\n",
    "    data = read(fd)\n",
    "    write(stdout, data)\n",
    "end"
   ]
  },
  {
   "cell_type": "code",
   "execution_count": 417,
   "metadata": {},
   "outputs": [
    {
     "name": "stdout",
     "output_type": "stream",
     "text": [
      "Hello WorldHello World"
     ]
    }
   ],
   "source": [
    "write(\"hello.txt\", \"Hello World\");\n",
    "data = read(\"hello.txt\");\n",
    "write(stdout, data);"
   ]
  },
  {
   "cell_type": "markdown",
   "metadata": {},
   "source": [
    "Files are opened for `read` or `write`. A file opened for reading cannot be written into.  "
   ]
  },
  {
   "cell_type": "code",
   "execution_count": 418,
   "metadata": {},
   "outputs": [
    {
     "name": "stdout",
     "output_type": "stream",
     "text": [
      "HHello Worldello World"
     ]
    }
   ],
   "source": [
    "open(\"hello.txt\", \"r\") do fd\n",
    "    while !eof(fd)\n",
    "        b = read(fd, 1)\n",
    "        write(stdout, b)\n",
    "    end\n",
    "end\n",
    "rm(\"hello.txt\")"
   ]
  },
  {
   "cell_type": "markdown",
   "metadata": {},
   "source": [
    "### Delimited Files\n",
    "\n",
    "Generalized command separated value (CSV) kind of files. Used extensively in spreadsheets. Also interfaced in data science applications as an easier way to share data. "
   ]
  },
  {
   "cell_type": "code",
   "execution_count": 419,
   "metadata": {},
   "outputs": [],
   "source": [
    "using DelimitedFiles\n",
    "x = collect(1:100);\n",
    "y = Float64.(collect(101:200));\n",
    "open(\"values.csv\", \"w\") do f\n",
    "    println(f, \"X,Y\")\n",
    "    writedlm(f, [x y], ',')\n",
    "end"
   ]
  },
  {
   "cell_type": "code",
   "execution_count": 420,
   "metadata": {},
   "outputs": [],
   "source": [
    "data, header = readdlm(\"values.csv\", ',', header=true);"
   ]
  },
  {
   "cell_type": "code",
   "execution_count": 421,
   "metadata": {},
   "outputs": [
    {
     "data": {
      "text/plain": [
       "100"
      ]
     },
     "execution_count": 421,
     "metadata": {},
     "output_type": "execute_result"
    },
    {
     "data": {
      "text/plain": [
       "100"
      ]
     },
     "execution_count": 421,
     "metadata": {},
     "output_type": "execute_result"
    }
   ],
   "source": [
    "size(data, 1)"
   ]
  },
  {
   "cell_type": "code",
   "execution_count": 422,
   "metadata": {},
   "outputs": [
    {
     "data": {
      "text/plain": [
       "1×2 Matrix{AbstractString}:\n",
       " \"X\"  \"Y\""
      ]
     },
     "execution_count": 422,
     "metadata": {},
     "output_type": "execute_result"
    },
    {
     "data": {
      "text/plain": [
       "1×2 Matrix{AbstractString}:\n",
       " \"X\"  \"Y\""
      ]
     },
     "execution_count": 422,
     "metadata": {},
     "output_type": "execute_result"
    }
   ],
   "source": [
    "header"
   ]
  },
  {
   "cell_type": "code",
   "execution_count": 423,
   "metadata": {},
   "outputs": [],
   "source": [
    "rm(\"values.csv\")"
   ]
  },
  {
   "cell_type": "markdown",
   "metadata": {},
   "source": [
    "### Network \n",
    "\n",
    "Just like files are opened with open to obtain the `IO` stream to interface, sockets are equivalent network communication end points to obtain connection streams. However, if you could use download method to provide a URL and download files. "
   ]
  },
  {
   "cell_type": "code",
   "execution_count": 424,
   "metadata": {},
   "outputs": [
    {
     "name": "stdout",
     "output_type": "stream",
     "text": [
      "Step: 20\n",
      "Step: 40\n",
      "Step: 20\n",
      "Step: 40\n",
      "Step: 84\n",
      "Step: 1\n",
      "Step: 84\n",
      "Step: 1\n",
      "Step: 21\n",
      "Step: 21\n",
      "Step: 41\n",
      "Step: 41\n",
      "Step: 85\n",
      "Step: 2\n",
      "Step: 85\n",
      "Step: 2\n"
     ]
    },
    {
     "data": {
      "text/plain": [
       "\"julia-1.5.3.tar.gz\""
      ]
     },
     "execution_count": 424,
     "metadata": {},
     "output_type": "execute_result"
    },
    {
     "data": {
      "text/plain": [
       "\"julia-1.5.3.tar.gz\""
      ]
     },
     "execution_count": 424,
     "metadata": {},
     "output_type": "execute_result"
    }
   ],
   "source": [
    "download(\"https://github.com/JuliaLang/julia/releases/download/v1.5.3/julia-1.5.3.tar.gz\", \"julia-1.5.3.tar.gz\")"
   ]
  },
  {
   "cell_type": "code",
   "execution_count": 425,
   "metadata": {},
   "outputs": [
    {
     "data": {
      "text/plain": [
       "Task (failed) @0x000000000d480fb0\n",
       "IOError: listen: address already in use (EADDRINUSE)\n",
       "Stacktrace:\n",
       " [1] \u001b[0m\u001b[1muv_error\u001b[22m\n",
       "\u001b[90m   @ \u001b[39m\u001b[90m.\\\u001b[39m\u001b[90;4mlibuv.jl:97\u001b[0m\u001b[90m [inlined]\u001b[39m\n",
       " [2] \u001b[0m\u001b[1m#listen#13\u001b[22m\n",
       "\u001b[90m   @ \u001b[39m\u001b[90mC:\\buildbot\\worker\\package_win64\\build\\usr\\share\\julia\\stdlib\\v1.6\\Sockets\\src\\\u001b[39m\u001b[90;4mSockets.jl:632\u001b[0m\u001b[90m [inlined]\u001b[39m\n",
       " [3] \u001b[0m\u001b[1m#listen#10\u001b[22m\n",
       "\u001b[90m   @ \u001b[39m\u001b[90mC:\\buildbot\\worker\\package_win64\\build\\usr\\share\\julia\\stdlib\\v1.6\\Sockets\\src\\\u001b[39m\u001b[90;4mSockets.jl:625\u001b[0m\u001b[90m [inlined]\u001b[39m\n",
       " [4] \u001b[0m\u001b[1m#listen#12\u001b[22m\n",
       "\u001b[90m   @ \u001b[39m\u001b[90mC:\\buildbot\\worker\\package_win64\\build\\usr\\share\\julia\\stdlib\\v1.6\\Sockets\\src\\\u001b[39m\u001b[90;4mSockets.jl:629\u001b[0m\u001b[90m [inlined]\u001b[39m\n",
       " [5] \u001b[0m\u001b[1m#listen#11\u001b[22m\n",
       "\u001b[90m   @ \u001b[39m\u001b[90mC:\\buildbot\\worker\\package_win64\\build\\usr\\share\\julia\\stdlib\\v1.6\\Sockets\\src\\\u001b[39m\u001b[90;4mSockets.jl:628\u001b[0m\u001b[90m [inlined]\u001b[39m\n",
       " [6] \u001b[0m\u001b[1mlisten\u001b[22m\n",
       "\u001b[90m   @ \u001b[39m\u001b[90mC:\\buildbot\\worker\\package_win64\\build\\usr\\share\\julia\\stdlib\\v1.6\\Sockets\\src\\\u001b[39m\u001b[90;4mSockets.jl:628\u001b[0m\u001b[90m [inlined]\u001b[39m\n",
       " [7] \u001b[0m\u001b[1mmacro expansion\u001b[22m\n",
       "\u001b[90m   @ \u001b[39m\u001b[90m.\\\u001b[39m\u001b[90;4mIn[425]:3\u001b[0m\u001b[90m [inlined]\u001b[39m\n",
       " [8] \u001b[0m\u001b[1m(::var\"#115#117\")\u001b[22m\u001b[0m\u001b[1m(\u001b[22m\u001b[0m\u001b[1m)\u001b[22m\n",
       "\u001b[90m   @ \u001b[39m\u001b[35mMain\u001b[39m \u001b[90m.\\\u001b[39m\u001b[90;4mtask.jl:417\u001b[0m"
      ]
     },
     "execution_count": 425,
     "metadata": {},
     "output_type": "execute_result"
    },
    {
     "data": {
      "text/plain": [
       "Task (failed) @0x000000000d480fb0\n",
       "IOError: listen: address already in use (EADDRINUSE)\n",
       "Stacktrace:\n",
       " [1] \u001b[0m\u001b[1muv_error\u001b[22m\n",
       "\u001b[90m   @ \u001b[39m\u001b[90m.\\\u001b[39m\u001b[90;4mlibuv.jl:97\u001b[0m\u001b[90m [inlined]\u001b[39m\n",
       " [2] \u001b[0m\u001b[1m#listen#13\u001b[22m\n",
       "\u001b[90m   @ \u001b[39m\u001b[90mC:\\buildbot\\worker\\package_win64\\build\\usr\\share\\julia\\stdlib\\v1.6\\Sockets\\src\\\u001b[39m\u001b[90;4mSockets.jl:632\u001b[0m\u001b[90m [inlined]\u001b[39m\n",
       " [3] \u001b[0m\u001b[1m#listen#10\u001b[22m\n",
       "\u001b[90m   @ \u001b[39m\u001b[90mC:\\buildbot\\worker\\package_win64\\build\\usr\\share\\julia\\stdlib\\v1.6\\Sockets\\src\\\u001b[39m\u001b[90;4mSockets.jl:625\u001b[0m\u001b[90m [inlined]\u001b[39m\n",
       " [4] \u001b[0m\u001b[1m#listen#12\u001b[22m\n",
       "\u001b[90m   @ \u001b[39m\u001b[90mC:\\buildbot\\worker\\package_win64\\build\\usr\\share\\julia\\stdlib\\v1.6\\Sockets\\src\\\u001b[39m\u001b[90;4mSockets.jl:629\u001b[0m\u001b[90m [inlined]\u001b[39m\n",
       " [5] \u001b[0m\u001b[1m#listen#11\u001b[22m\n",
       "\u001b[90m   @ \u001b[39m\u001b[90mC:\\buildbot\\worker\\package_win64\\build\\usr\\share\\julia\\stdlib\\v1.6\\Sockets\\src\\\u001b[39m\u001b[90;4mSockets.jl:628\u001b[0m\u001b[90m [inlined]\u001b[39m\n",
       " [6] \u001b[0m\u001b[1mlisten\u001b[22m\n",
       "\u001b[90m   @ \u001b[39m\u001b[90mC:\\buildbot\\worker\\package_win64\\build\\usr\\share\\julia\\stdlib\\v1.6\\Sockets\\src\\\u001b[39m\u001b[90;4mSockets.jl:628\u001b[0m\u001b[90m [inlined]\u001b[39m\n",
       " [7] \u001b[0m\u001b[1mmacro expansion\u001b[22m\n",
       "\u001b[90m   @ \u001b[39m\u001b[90m.\\\u001b[39m\u001b[90;4mIn[425]:3\u001b[0m\u001b[90m [inlined]\u001b[39m\n",
       " [8] \u001b[0m\u001b[1m(::var\"#115#117\")\u001b[22m\u001b[0m\u001b[1m(\u001b[22m\u001b[0m\u001b[1m)\u001b[22m\n",
       "\u001b[90m   @ \u001b[39m\u001b[35mMain\u001b[39m \u001b[90m.\\\u001b[39m\u001b[90;4mtask.jl:417\u001b[0m"
      ]
     },
     "execution_count": 425,
     "metadata": {},
     "output_type": "execute_result"
    }
   ],
   "source": [
    "using Sockets\n",
    "@async begin\n",
    "    server = listen(3000)\n",
    "    while true\n",
    "        s = accept(server)\n",
    "        @async while isopen(s)\n",
    "            msg = readline(s, keep=true)\n",
    "            write(s, \"Server Response: $msg\")\n",
    "        end  \n",
    "    end\n",
    "end"
   ]
  },
  {
   "cell_type": "code",
   "execution_count": 426,
   "metadata": {},
   "outputs": [
    {
     "data": {
      "text/plain": [
       "Task (runnable) @0x000000000d8312d0"
      ]
     },
     "execution_count": 426,
     "metadata": {},
     "output_type": "execute_result"
    },
    {
     "data": {
      "text/plain": [
       "Task (runnable) @0x000000000d8312d0"
      ]
     },
     "execution_count": 426,
     "metadata": {},
     "output_type": "execute_result"
    }
   ],
   "source": [
    "c = connect(3000)\n",
    "@async while isopen(c)\n",
    "    println(stdout, readline(c, keep=true))\n",
    "end"
   ]
  },
  {
   "cell_type": "code",
   "execution_count": 427,
   "metadata": {},
   "outputs": [
    {
     "name": "stdout",
     "output_type": "stream",
     "text": [
      "Step: 22\n",
      "Server Response: Client Msg id: 1\n",
      "\n",
      "Step: 42\n",
      "Step: 22\n",
      "Server Response: Client Msg id: 1\n",
      "\n",
      "Step: 42\n",
      "Server Response: Client Msg id: 2\n",
      "\n",
      "Server Response: Client Msg id: 3\n",
      "\n",
      "Server Response: Client Msg id: 2\n",
      "\n",
      "Server Response: Client Msg id: 3\n",
      "\n"
     ]
    }
   ],
   "source": [
    "for i = 1:5\n",
    "    println(c, \"Client Msg id: $i\")\n",
    "end"
   ]
  },
  {
   "cell_type": "code",
   "execution_count": 428,
   "metadata": {},
   "outputs": [
    {
     "name": "stdout",
     "output_type": "stream",
     "text": [
      "Server Response: Client Msg id: 4\n",
      "\n",
      "Server Response: Client Msg id: 5\n",
      "\n",
      "\n",
      "Server Response: Client Msg id: 4\n",
      "\n",
      "Server Response: Client Msg id: 5\n",
      "\n",
      "\n"
     ]
    }
   ],
   "source": [
    "close(c)"
   ]
  },
  {
   "cell_type": "markdown",
   "metadata": {},
   "source": [
    "### Memory I/O\n",
    "\n",
    "Strings cannot be manipulated. It may help to create a byte array for `IO` in the memory and use that for text manipulations. In the end the byte array can be converted to a String. "
   ]
  },
  {
   "cell_type": "code",
   "execution_count": 429,
   "metadata": {},
   "outputs": [
    {
     "data": {
      "text/plain": [
       "\"This is Line 1\\nThis is Line 2\\n\""
      ]
     },
     "execution_count": 429,
     "metadata": {},
     "output_type": "execute_result"
    },
    {
     "data": {
      "text/plain": [
       "\"This is Line 1\\nThis is Line 2\\n\""
      ]
     },
     "execution_count": 429,
     "metadata": {},
     "output_type": "execute_result"
    }
   ],
   "source": [
    "io = IOBuffer()\n",
    "println(io, \"This is Line 1\")\n",
    "println(io, \"This is Line 2\")\n",
    "str = String(take!(io))"
   ]
  },
  {
   "cell_type": "code",
   "execution_count": 430,
   "metadata": {},
   "outputs": [
    {
     "data": {
      "text/plain": [
       "800"
      ]
     },
     "execution_count": 430,
     "metadata": {},
     "output_type": "execute_result"
    },
    {
     "data": {
      "text/plain": [
       "800"
      ]
     },
     "execution_count": 430,
     "metadata": {},
     "output_type": "execute_result"
    }
   ],
   "source": [
    "A = fill(10, (5, 20))\n",
    "A[2, 3] = 20\n",
    "open(\"mmap.bin\", \"w+\") do fd\n",
    "    write(fd, size(A, 1))\n",
    "    write(fd, size(A, 2))\n",
    "    write(fd, A)\n",
    "end"
   ]
  },
  {
   "cell_type": "markdown",
   "metadata": {},
   "source": [
    "Memory mapping is reverse problem. A file can be mapped to memory and accessed selectively page by page. This way the whole file need not be loaded in the memory. "
   ]
  },
  {
   "cell_type": "code",
   "execution_count": 431,
   "metadata": {},
   "outputs": [
    {
     "name": "stdout",
     "output_type": "stream",
     "text": [
      "A2[1, 1]: 10 A2[2, 3]: 20\n",
      "A2[1, 1]: 10 A2[2, 3]: 20\n"
     ]
    }
   ],
   "source": [
    "using Mmap\n",
    "fd = open(\"mmap.bin\", \"r\")\n",
    "nr = read(fd, Int)\n",
    "nc = read(fd, Int)\n",
    "A2 = Mmap.mmap(fd, Matrix{Int}, (nr, nc))\n",
    "println(\"A2[1, 1]: \", A2[1, 1], \" A2[2, 3]: \", A2[2, 3])\n",
    "close(fd)"
   ]
  },
  {
   "cell_type": "code",
   "execution_count": 432,
   "metadata": {},
   "outputs": [],
   "source": [
    "A2 = nothing\n",
    "GC.gc()\n",
    "rm(\"mmap.bin\")"
   ]
  },
  {
   "cell_type": "markdown",
   "metadata": {},
   "source": [
    "## 9.7 Constants\n",
    "\n",
    "There are many system and Julia related constants. Mathematical constants are also defined in the standard library. "
   ]
  },
  {
   "cell_type": "code",
   "execution_count": 433,
   "metadata": {},
   "outputs": [
    {
     "data": {
      "text/plain": [
       "v\"1.6.7\""
      ]
     },
     "execution_count": 433,
     "metadata": {},
     "output_type": "execute_result"
    },
    {
     "data": {
      "text/plain": [
       "v\"1.6.7\""
      ]
     },
     "execution_count": 433,
     "metadata": {},
     "output_type": "execute_result"
    }
   ],
   "source": [
    "VERSION"
   ]
  },
  {
   "cell_type": "code",
   "execution_count": 434,
   "metadata": {},
   "outputs": [
    {
     "data": {
      "text/plain": [
       "Ptr{Nothing} @0x0000000000000000"
      ]
     },
     "execution_count": 434,
     "metadata": {},
     "output_type": "execute_result"
    },
    {
     "data": {
      "text/plain": [
       "Ptr{Nothing} @0x0000000000000000"
      ]
     },
     "execution_count": 434,
     "metadata": {},
     "output_type": "execute_result"
    }
   ],
   "source": [
    "C_NULL"
   ]
  },
  {
   "cell_type": "code",
   "execution_count": 435,
   "metadata": {},
   "outputs": [
    {
     "data": {
      "text/plain": [
       "\"C:\\\\Users\\\\vishn\\\\AppData\\\\Local\\\\Programs\\\\Julia-1.6.7\\\\bin\""
      ]
     },
     "execution_count": 435,
     "metadata": {},
     "output_type": "execute_result"
    },
    {
     "data": {
      "text/plain": [
       "\"C:\\\\Users\\\\vishn\\\\AppData\\\\Local\\\\Programs\\\\Julia-1.6.7\\\\bin\""
      ]
     },
     "execution_count": 435,
     "metadata": {},
     "output_type": "execute_result"
    }
   ],
   "source": [
    "Sys.BINDIR"
   ]
  },
  {
   "cell_type": "code",
   "execution_count": 436,
   "metadata": {},
   "outputs": [
    {
     "data": {
      "text/plain": [
       "4"
      ]
     },
     "execution_count": 436,
     "metadata": {},
     "output_type": "execute_result"
    },
    {
     "data": {
      "text/plain": [
       "4"
      ]
     },
     "execution_count": 436,
     "metadata": {},
     "output_type": "execute_result"
    }
   ],
   "source": [
    "Sys.CPU_THREADS"
   ]
  },
  {
   "cell_type": "code",
   "execution_count": 437,
   "metadata": {},
   "outputs": [
    {
     "data": {
      "text/plain": [
       "64"
      ]
     },
     "execution_count": 437,
     "metadata": {},
     "output_type": "execute_result"
    },
    {
     "data": {
      "text/plain": [
       "64"
      ]
     },
     "execution_count": 437,
     "metadata": {},
     "output_type": "execute_result"
    }
   ],
   "source": [
    "Sys.WORD_SIZE"
   ]
  },
  {
   "cell_type": "code",
   "execution_count": 438,
   "metadata": {},
   "outputs": [
    {
     "data": {
      "text/plain": [
       ":NT"
      ]
     },
     "execution_count": 438,
     "metadata": {},
     "output_type": "execute_result"
    },
    {
     "data": {
      "text/plain": [
       ":NT"
      ]
     },
     "execution_count": 438,
     "metadata": {},
     "output_type": "execute_result"
    }
   ],
   "source": [
    "Sys.KERNEL"
   ]
  },
  {
   "cell_type": "code",
   "execution_count": 439,
   "metadata": {},
   "outputs": [
    {
     "data": {
      "text/plain": [
       "\"x86_64-w64-mingw32\""
      ]
     },
     "execution_count": 439,
     "metadata": {},
     "output_type": "execute_result"
    },
    {
     "data": {
      "text/plain": [
       "\"x86_64-w64-mingw32\""
      ]
     },
     "execution_count": 439,
     "metadata": {},
     "output_type": "execute_result"
    }
   ],
   "source": [
    "Sys.MACHINE"
   ]
  },
  {
   "cell_type": "code",
   "execution_count": 440,
   "metadata": {},
   "outputs": [
    {
     "data": {
      "text/plain": [
       ":x86_64"
      ]
     },
     "execution_count": 440,
     "metadata": {},
     "output_type": "execute_result"
    },
    {
     "data": {
      "text/plain": [
       ":x86_64"
      ]
     },
     "execution_count": 440,
     "metadata": {},
     "output_type": "execute_result"
    }
   ],
   "source": [
    "Sys.ARCH"
   ]
  },
  {
   "cell_type": "code",
   "execution_count": 441,
   "metadata": {},
   "outputs": [
    {
     "data": {
      "text/plain": [
       "Base.EnvDict with 57 entries:\n",
       "  \"=C:\"                             => \"C:\\\\Users\\\\vishn\\\\Hands-on-Julia-Progra…\n",
       "  \"ALLUSERSPROFILE\"                 => \"C:\\\\ProgramData\"\n",
       "  \"APPDATA\"                         => \"C:\\\\Users\\\\vishn\\\\AppData\\\\Roaming\"\n",
       "  \"COLUMNS\"                         => \"80\"\n",
       "  \"COMMONPROGRAMFILES\"              => \"C:\\\\Program Files\\\\Common Files\"\n",
       "  \"COMMONPROGRAMFILES(X86)\"         => \"C:\\\\Program Files (x86)\\\\Common Files\"\n",
       "  \"COMMONPROGRAMW6432\"              => \"C:\\\\Program Files\\\\Common Files\"\n",
       "  \"COMPUTERNAME\"                    => \"DESKTOP-OSNGCI7\"\n",
       "  \"COMSPEC\"                         => \"C:\\\\Windows\\\\system32\\\\cmd.exe\"\n",
       "  \"CONDA_DEFAULT_ENV\"               => \"base\"\n",
       "  \"CONDA_EXE\"                       => \"C:\\\\Users\\\\vishn\\\\anaconda3\\\\Scripts\\\\c…\n",
       "  \"CONDA_PROMPT_MODIFIER\"           => \"(base) \"\n",
       "  \"CONDA_PYTHON_EXE\"                => \"C:\\\\Users\\\\vishn\\\\anaconda3\\\\python.exe\"\n",
       "  \"CONDA_SHLVL\"                     => \"1\"\n",
       "  \"DRIVERDATA\"                      => \"C:\\\\Windows\\\\System32\\\\Drivers\\\\DriverD…\n",
       "  \"FPS_BROWSER_APP_PROFILE_STRING\"  => \"Internet Explorer\"\n",
       "  \"FPS_BROWSER_USER_PROFILE_STRING\" => \"Default\"\n",
       "  \"HOMEDRIVE\"                       => \"C:\"\n",
       "  \"HOMEPATH\"                        => \"\\\\Users\\\\vishn\"\n",
       "  \"LINES\"                           => \"30\"\n",
       "  \"LOCALAPPDATA\"                    => \"C:\\\\Users\\\\vishn\\\\AppData\\\\Local\"\n",
       "  \"LOGONSERVER\"                     => \"\\\\\\\\DESKTOP-OSNGCI7\"\n",
       "  \"NUMBER_OF_PROCESSORS\"            => \"4\"\n",
       "  \"ONEDRIVE\"                        => \"C:\\\\Users\\\\vishn\\\\OneDrive\"\n",
       "  \"OPENBLAS_MAIN_FREE\"              => \"1\"\n",
       "  ⋮                                 => ⋮"
      ]
     },
     "execution_count": 441,
     "metadata": {},
     "output_type": "execute_result"
    },
    {
     "data": {
      "text/plain": [
       "Base.EnvDict with 57 entries:\n",
       "  \"=C:\"                             => \"C:\\\\Users\\\\vishn\\\\Hands-on-Julia-Progra…\n",
       "  \"ALLUSERSPROFILE\"                 => \"C:\\\\ProgramData\"\n",
       "  \"APPDATA\"                         => \"C:\\\\Users\\\\vishn\\\\AppData\\\\Roaming\"\n",
       "  \"COLUMNS\"                         => \"80\"\n",
       "  \"COMMONPROGRAMFILES\"              => \"C:\\\\Program Files\\\\Common Files\"\n",
       "  \"COMMONPROGRAMFILES(X86)\"         => \"C:\\\\Program Files (x86)\\\\Common Files\"\n",
       "  \"COMMONPROGRAMW6432\"              => \"C:\\\\Program Files\\\\Common Files\"\n",
       "  \"COMPUTERNAME\"                    => \"DESKTOP-OSNGCI7\"\n",
       "  \"COMSPEC\"                         => \"C:\\\\Windows\\\\system32\\\\cmd.exe\"\n",
       "  \"CONDA_DEFAULT_ENV\"               => \"base\"\n",
       "  \"CONDA_EXE\"                       => \"C:\\\\Users\\\\vishn\\\\anaconda3\\\\Scripts\\\\c…\n",
       "  \"CONDA_PROMPT_MODIFIER\"           => \"(base) \"\n",
       "  \"CONDA_PYTHON_EXE\"                => \"C:\\\\Users\\\\vishn\\\\anaconda3\\\\python.exe\"\n",
       "  \"CONDA_SHLVL\"                     => \"1\"\n",
       "  \"DRIVERDATA\"                      => \"C:\\\\Windows\\\\System32\\\\Drivers\\\\DriverD…\n",
       "  \"FPS_BROWSER_APP_PROFILE_STRING\"  => \"Internet Explorer\"\n",
       "  \"FPS_BROWSER_USER_PROFILE_STRING\" => \"Default\"\n",
       "  \"HOMEDRIVE\"                       => \"C:\"\n",
       "  \"HOMEPATH\"                        => \"\\\\Users\\\\vishn\"\n",
       "  \"LINES\"                           => \"30\"\n",
       "  \"LOCALAPPDATA\"                    => \"C:\\\\Users\\\\vishn\\\\AppData\\\\Local\"\n",
       "  \"LOGONSERVER\"                     => \"\\\\\\\\DESKTOP-OSNGCI7\"\n",
       "  \"NUMBER_OF_PROCESSORS\"            => \"4\"\n",
       "  \"ONEDRIVE\"                        => \"C:\\\\Users\\\\vishn\\\\OneDrive\"\n",
       "  \"OPENBLAS_MAIN_FREE\"              => \"1\"\n",
       "  ⋮                                 => ⋮"
      ]
     },
     "execution_count": 441,
     "metadata": {},
     "output_type": "execute_result"
    }
   ],
   "source": [
    "Sys.ENV"
   ]
  },
  {
   "cell_type": "code",
   "execution_count": 442,
   "metadata": {},
   "outputs": [
    {
     "data": {
      "text/plain": [
       "π = 3.1415926535897..."
      ]
     },
     "execution_count": 442,
     "metadata": {},
     "output_type": "execute_result"
    },
    {
     "data": {
      "text/plain": [
       "π = 3.1415926535897..."
      ]
     },
     "execution_count": 442,
     "metadata": {},
     "output_type": "execute_result"
    }
   ],
   "source": [
    "MathConstants.pi"
   ]
  },
  {
   "cell_type": "code",
   "execution_count": 443,
   "metadata": {},
   "outputs": [
    {
     "data": {
      "text/plain": [
       "ℯ = 2.7182818284590..."
      ]
     },
     "execution_count": 443,
     "metadata": {},
     "output_type": "execute_result"
    },
    {
     "data": {
      "text/plain": [
       "ℯ = 2.7182818284590..."
      ]
     },
     "execution_count": 443,
     "metadata": {},
     "output_type": "execute_result"
    }
   ],
   "source": [
    "MathConstants.e"
   ]
  },
  {
   "cell_type": "markdown",
   "metadata": {},
   "source": [
    "## 9.8 Notable Modules\n",
    "\n",
    "Miscellaneous modules of Julia library. "
   ]
  },
  {
   "cell_type": "markdown",
   "metadata": {},
   "source": [
    "### Dates\n",
    "\n",
    "User renderable date and time representations. In the system the date is just a continuously increasing counter from a datum. These functions make meaningful period associations and provide the correct date and time. "
   ]
  },
  {
   "cell_type": "code",
   "execution_count": 444,
   "metadata": {},
   "outputs": [],
   "source": [
    "using Dates"
   ]
  },
  {
   "cell_type": "code",
   "execution_count": 445,
   "metadata": {},
   "outputs": [
    {
     "data": {
      "text/plain": [
       "2022-10-01T23:04:28.297"
      ]
     },
     "execution_count": 445,
     "metadata": {},
     "output_type": "execute_result"
    },
    {
     "data": {
      "text/plain": [
       "2022-10-01T23:04:28.297"
      ]
     },
     "execution_count": 445,
     "metadata": {},
     "output_type": "execute_result"
    }
   ],
   "source": [
    "now()"
   ]
  },
  {
   "cell_type": "code",
   "execution_count": 446,
   "metadata": {},
   "outputs": [
    {
     "data": {
      "text/plain": [
       "2020-01-01T00:00:00"
      ]
     },
     "execution_count": 446,
     "metadata": {},
     "output_type": "execute_result"
    },
    {
     "data": {
      "text/plain": [
       "2020-01-01T00:00:00"
      ]
     },
     "execution_count": 446,
     "metadata": {},
     "output_type": "execute_result"
    }
   ],
   "source": [
    "DateTime(2020)"
   ]
  },
  {
   "cell_type": "code",
   "execution_count": 447,
   "metadata": {},
   "outputs": [
    {
     "data": {
      "text/plain": [
       "2020-10-31T01:02:03"
      ]
     },
     "execution_count": 447,
     "metadata": {},
     "output_type": "execute_result"
    },
    {
     "data": {
      "text/plain": [
       "2020-10-31T01:02:03"
      ]
     },
     "execution_count": 447,
     "metadata": {},
     "output_type": "execute_result"
    }
   ],
   "source": [
    "t = DateTime(2020, 10, 31, 01, 02, 03)"
   ]
  },
  {
   "cell_type": "code",
   "execution_count": 448,
   "metadata": {},
   "outputs": [
    {
     "data": {
      "text/plain": [
       "2020-01-01"
      ]
     },
     "execution_count": 448,
     "metadata": {},
     "output_type": "execute_result"
    },
    {
     "data": {
      "text/plain": [
       "2020-01-01"
      ]
     },
     "execution_count": 448,
     "metadata": {},
     "output_type": "execute_result"
    }
   ],
   "source": [
    "Date(2020)"
   ]
  },
  {
   "cell_type": "code",
   "execution_count": 449,
   "metadata": {},
   "outputs": [
    {
     "data": {
      "text/plain": [
       "2020-10-31"
      ]
     },
     "execution_count": 449,
     "metadata": {},
     "output_type": "execute_result"
    },
    {
     "data": {
      "text/plain": [
       "2020-10-31"
      ]
     },
     "execution_count": 449,
     "metadata": {},
     "output_type": "execute_result"
    }
   ],
   "source": [
    "d = Date(t)"
   ]
  },
  {
   "cell_type": "code",
   "execution_count": 450,
   "metadata": {},
   "outputs": [
    {
     "data": {
      "text/plain": [
       "2020-10-31T00:00:00"
      ]
     },
     "execution_count": 450,
     "metadata": {},
     "output_type": "execute_result"
    },
    {
     "data": {
      "text/plain": [
       "2020-10-31T00:00:00"
      ]
     },
     "execution_count": 450,
     "metadata": {},
     "output_type": "execute_result"
    }
   ],
   "source": [
    "DateTime(d)"
   ]
  },
  {
   "cell_type": "code",
   "execution_count": 451,
   "metadata": {},
   "outputs": [
    {
     "data": {
      "text/plain": [
       "true"
      ]
     },
     "execution_count": 451,
     "metadata": {},
     "output_type": "execute_result"
    },
    {
     "data": {
      "text/plain": [
       "true"
      ]
     },
     "execution_count": 451,
     "metadata": {},
     "output_type": "execute_result"
    }
   ],
   "source": [
    "t > d"
   ]
  },
  {
   "cell_type": "code",
   "execution_count": 452,
   "metadata": {},
   "outputs": [
    {
     "data": {
      "text/plain": [
       "true"
      ]
     },
     "execution_count": 452,
     "metadata": {},
     "output_type": "execute_result"
    },
    {
     "data": {
      "text/plain": [
       "true"
      ]
     },
     "execution_count": 452,
     "metadata": {},
     "output_type": "execute_result"
    }
   ],
   "source": [
    "DateTime(2020) < now()"
   ]
  },
  {
   "cell_type": "code",
   "execution_count": 453,
   "metadata": {},
   "outputs": [
    {
     "data": {
      "text/plain": [
       "true"
      ]
     },
     "execution_count": 453,
     "metadata": {},
     "output_type": "execute_result"
    },
    {
     "data": {
      "text/plain": [
       "true"
      ]
     },
     "execution_count": 453,
     "metadata": {},
     "output_type": "execute_result"
    }
   ],
   "source": [
    "DateTime(2020) == Date(2020)"
   ]
  },
  {
   "cell_type": "code",
   "execution_count": 454,
   "metadata": {},
   "outputs": [
    {
     "data": {
      "text/plain": [
       "3 months, 10 days, 15 hours"
      ]
     },
     "execution_count": 454,
     "metadata": {},
     "output_type": "execute_result"
    },
    {
     "data": {
      "text/plain": [
       "3 months, 10 days, 15 hours"
      ]
     },
     "execution_count": 454,
     "metadata": {},
     "output_type": "execute_result"
    }
   ],
   "source": [
    "p = Month(3) + Day(10) + Hour(15)"
   ]
  },
  {
   "cell_type": "code",
   "execution_count": 455,
   "metadata": {},
   "outputs": [
    {
     "name": "stdout",
     "output_type": "stream",
     "text": [
      "Step: 86\n"
     ]
    },
    {
     "data": {
      "text/plain": [
       "Dates.CompoundPeriod"
      ]
     },
     "execution_count": 455,
     "metadata": {},
     "output_type": "execute_result"
    },
    {
     "name": "stdout",
     "output_type": "stream",
     "text": [
      "Step: 3\n",
      "Step: 86\n"
     ]
    },
    {
     "data": {
      "text/plain": [
       "Dates.CompoundPeriod"
      ]
     },
     "execution_count": 455,
     "metadata": {},
     "output_type": "execute_result"
    },
    {
     "name": "stdout",
     "output_type": "stream",
     "text": [
      "Step: 3\n"
     ]
    }
   ],
   "source": [
    "typeof(p)"
   ]
  },
  {
   "cell_type": "code",
   "execution_count": 456,
   "metadata": {},
   "outputs": [
    {
     "data": {
      "text/plain": [
       "2023-01-12T14:04:28.382"
      ]
     },
     "execution_count": 456,
     "metadata": {},
     "output_type": "execute_result"
    },
    {
     "data": {
      "text/plain": [
       "2023-01-12T14:04:28.382"
      ]
     },
     "execution_count": 456,
     "metadata": {},
     "output_type": "execute_result"
    }
   ],
   "source": [
    "now() + p"
   ]
  },
  {
   "cell_type": "code",
   "execution_count": 457,
   "metadata": {},
   "outputs": [
    {
     "data": {
      "text/plain": [
       "2023-07-28"
      ]
     },
     "execution_count": 457,
     "metadata": {},
     "output_type": "execute_result"
    },
    {
     "data": {
      "text/plain": [
       "2023-07-28"
      ]
     },
     "execution_count": 457,
     "metadata": {},
     "output_type": "execute_result"
    }
   ],
   "source": [
    "Date(now())+ Day(300)"
   ]
  },
  {
   "cell_type": "code",
   "execution_count": 458,
   "metadata": {},
   "outputs": [
    {
     "data": {
      "text/plain": [
       "86828668392 milliseconds"
      ]
     },
     "execution_count": 458,
     "metadata": {},
     "output_type": "execute_result"
    },
    {
     "data": {
      "text/plain": [
       "86828668392 milliseconds"
      ]
     },
     "execution_count": 458,
     "metadata": {},
     "output_type": "execute_result"
    }
   ],
   "source": [
    "now() - DateTime(2020)"
   ]
  },
  {
   "cell_type": "code",
   "execution_count": 459,
   "metadata": {
    "scrolled": true
   },
   "outputs": [
    {
     "ename": "LoadError",
     "evalue": "MethodError: no method matching -(::DateTime, ::Date)\n\u001b[0mClosest candidates are:\n\u001b[0m  -(\u001b[91m::StridedArray{var\"#s814\", N} where {var\"#s814\"<:Union{Dates.CompoundPeriod, Period}, N}\u001b[39m, ::TimeType) at C:\\buildbot\\worker\\package_win64\\build\\usr\\share\\julia\\stdlib\\v1.6\\Dates\\src\\deprecated.jl:26\n\u001b[0m  -(::TimeType, \u001b[91m::Dates.CompoundPeriod\u001b[39m) at C:\\buildbot\\worker\\package_win64\\build\\usr\\share\\julia\\stdlib\\v1.6\\Dates\\src\\periods.jl:384\n\u001b[0m  -(::T, \u001b[91m::T\u001b[39m) where T<:TimeType at C:\\buildbot\\worker\\package_win64\\build\\usr\\share\\julia\\stdlib\\v1.6\\Dates\\src\\arithmetic.jl:9\n\u001b[0m  ...",
     "output_type": "error",
     "traceback": [
      "MethodError: no method matching -(::DateTime, ::Date)\n\u001b[0mClosest candidates are:\n\u001b[0m  -(\u001b[91m::StridedArray{var\"#s814\", N} where {var\"#s814\"<:Union{Dates.CompoundPeriod, Period}, N}\u001b[39m, ::TimeType) at C:\\buildbot\\worker\\package_win64\\build\\usr\\share\\julia\\stdlib\\v1.6\\Dates\\src\\deprecated.jl:26\n\u001b[0m  -(::TimeType, \u001b[91m::Dates.CompoundPeriod\u001b[39m) at C:\\buildbot\\worker\\package_win64\\build\\usr\\share\\julia\\stdlib\\v1.6\\Dates\\src\\periods.jl:384\n\u001b[0m  -(::T, \u001b[91m::T\u001b[39m) where T<:TimeType at C:\\buildbot\\worker\\package_win64\\build\\usr\\share\\julia\\stdlib\\v1.6\\Dates\\src\\arithmetic.jl:9\n\u001b[0m  ...",
      "",
      "Stacktrace:",
      " [1] top-level scope",
      "   @ In[459]:1",
      " [2] eval",
      "   @ .\\boot.jl:360 [inlined]",
      " [3] include_string(mapexpr::typeof(REPL.softscope), mod::Module, code::String, filename::String)",
      "   @ Base .\\loading.jl:1116"
     ]
    },
    {
     "ename": "LoadError",
     "evalue": "MethodError: no method matching -(::DateTime, ::Date)\n\u001b[0mClosest candidates are:\n\u001b[0m  -(\u001b[91m::StridedArray{var\"#s814\", N} where {var\"#s814\"<:Union{Dates.CompoundPeriod, Period}, N}\u001b[39m, ::TimeType) at C:\\buildbot\\worker\\package_win64\\build\\usr\\share\\julia\\stdlib\\v1.6\\Dates\\src\\deprecated.jl:26\n\u001b[0m  -(::TimeType, \u001b[91m::Dates.CompoundPeriod\u001b[39m) at C:\\buildbot\\worker\\package_win64\\build\\usr\\share\\julia\\stdlib\\v1.6\\Dates\\src\\periods.jl:384\n\u001b[0m  -(::T, \u001b[91m::T\u001b[39m) where T<:TimeType at C:\\buildbot\\worker\\package_win64\\build\\usr\\share\\julia\\stdlib\\v1.6\\Dates\\src\\arithmetic.jl:9\n\u001b[0m  ...",
     "output_type": "error",
     "traceback": [
      "MethodError: no method matching -(::DateTime, ::Date)\n\u001b[0mClosest candidates are:\n\u001b[0m  -(\u001b[91m::StridedArray{var\"#s814\", N} where {var\"#s814\"<:Union{Dates.CompoundPeriod, Period}, N}\u001b[39m, ::TimeType) at C:\\buildbot\\worker\\package_win64\\build\\usr\\share\\julia\\stdlib\\v1.6\\Dates\\src\\deprecated.jl:26\n\u001b[0m  -(::TimeType, \u001b[91m::Dates.CompoundPeriod\u001b[39m) at C:\\buildbot\\worker\\package_win64\\build\\usr\\share\\julia\\stdlib\\v1.6\\Dates\\src\\periods.jl:384\n\u001b[0m  -(::T, \u001b[91m::T\u001b[39m) where T<:TimeType at C:\\buildbot\\worker\\package_win64\\build\\usr\\share\\julia\\stdlib\\v1.6\\Dates\\src\\arithmetic.jl:9\n\u001b[0m  ...",
      "",
      "Stacktrace:",
      " [1] top-level scope",
      "   @ In[459]:1",
      " [2] eval",
      "   @ .\\boot.jl:360 [inlined]",
      " [3] include_string(mapexpr::typeof(REPL.softscope), mod::Module, code::String, filename::String)",
      "   @ Base .\\loading.jl:1116"
     ]
    }
   ],
   "source": [
    "now() - Date(2020)"
   ]
  },
  {
   "cell_type": "code",
   "execution_count": 460,
   "metadata": {},
   "outputs": [
    {
     "data": {
      "text/plain": [
       "1004 days"
      ]
     },
     "execution_count": 460,
     "metadata": {},
     "output_type": "execute_result"
    },
    {
     "data": {
      "text/plain": [
       "1004 days"
      ]
     },
     "execution_count": 460,
     "metadata": {},
     "output_type": "execute_result"
    }
   ],
   "source": [
    "Date(now()) - Date(2020)"
   ]
  },
  {
   "cell_type": "code",
   "execution_count": 461,
   "metadata": {},
   "outputs": [
    {
     "data": {
      "text/plain": [
       "2022 years"
      ]
     },
     "execution_count": 461,
     "metadata": {},
     "output_type": "execute_result"
    },
    {
     "data": {
      "text/plain": [
       "2022 years"
      ]
     },
     "execution_count": 461,
     "metadata": {},
     "output_type": "execute_result"
    }
   ],
   "source": [
    "Year(now())"
   ]
  },
  {
   "cell_type": "code",
   "execution_count": 462,
   "metadata": {},
   "outputs": [
    {
     "data": {
      "text/plain": [
       "10 months"
      ]
     },
     "execution_count": 462,
     "metadata": {},
     "output_type": "execute_result"
    },
    {
     "data": {
      "text/plain": [
       "10 months"
      ]
     },
     "execution_count": 462,
     "metadata": {},
     "output_type": "execute_result"
    }
   ],
   "source": [
    "Month(now())"
   ]
  },
  {
   "cell_type": "code",
   "execution_count": 463,
   "metadata": {},
   "outputs": [
    {
     "data": {
      "text/plain": [
       "1 day"
      ]
     },
     "execution_count": 463,
     "metadata": {},
     "output_type": "execute_result"
    },
    {
     "data": {
      "text/plain": [
       "1 day"
      ]
     },
     "execution_count": 463,
     "metadata": {},
     "output_type": "execute_result"
    }
   ],
   "source": [
    "Day(now())"
   ]
  },
  {
   "cell_type": "code",
   "execution_count": 464,
   "metadata": {},
   "outputs": [
    {
     "data": {
      "text/plain": [
       "39 weeks"
      ]
     },
     "execution_count": 464,
     "metadata": {},
     "output_type": "execute_result"
    },
    {
     "data": {
      "text/plain": [
       "39 weeks"
      ]
     },
     "execution_count": 464,
     "metadata": {},
     "output_type": "execute_result"
    }
   ],
   "source": [
    "Week(now())"
   ]
  },
  {
   "cell_type": "code",
   "execution_count": 465,
   "metadata": {},
   "outputs": [
    {
     "data": {
      "text/plain": [
       "2022"
      ]
     },
     "execution_count": 465,
     "metadata": {},
     "output_type": "execute_result"
    },
    {
     "data": {
      "text/plain": [
       "2022"
      ]
     },
     "execution_count": 465,
     "metadata": {},
     "output_type": "execute_result"
    }
   ],
   "source": [
    "year(now())"
   ]
  },
  {
   "cell_type": "code",
   "execution_count": 466,
   "metadata": {},
   "outputs": [
    {
     "data": {
      "text/plain": [
       "2022-11-24"
      ]
     },
     "execution_count": 466,
     "metadata": {},
     "output_type": "execute_result"
    },
    {
     "data": {
      "text/plain": [
       "2022-11-24"
      ]
     },
     "execution_count": 466,
     "metadata": {},
     "output_type": "execute_result"
    }
   ],
   "source": [
    "tonext(today()) do d\n",
    "    dayofweek(d) == Thursday &&\n",
    "    dayofweekofmonth(d) == 4 &&\n",
    "    month(d) == November\n",
    "end"
   ]
  },
  {
   "cell_type": "markdown",
   "metadata": {},
   "source": [
    "### Logging\n",
    "\n",
    "Long running processes or servers running in Julia need to provide consistent and standard log reporting. This module helps create such reports. "
   ]
  },
  {
   "cell_type": "code",
   "execution_count": 467,
   "metadata": {},
   "outputs": [],
   "source": [
    "@debug \"This is a debug message $(sum(rand(100)))\""
   ]
  },
  {
   "cell_type": "code",
   "execution_count": 468,
   "metadata": {},
   "outputs": [
    {
     "name": "stderr",
     "output_type": "stream",
     "text": [
      "┌ Info: This message is just informational\n",
      "└ @ Main In[468]:1\n",
      "┌ Info: This message is just informational\n",
      "└ @ Main In[468]:1\n"
     ]
    }
   ],
   "source": [
    "@info \"This message is just informational\""
   ]
  },
  {
   "cell_type": "code",
   "execution_count": 469,
   "metadata": {},
   "outputs": [
    {
     "name": "stderr",
     "output_type": "stream",
     "text": [
      "┌ Warning: This is a warning message\n",
      "└ @ Main In[469]:1\n",
      "┌ Warning: This is a warning message\n",
      "└ @ Main In[469]:1\n"
     ]
    }
   ],
   "source": [
    "@warn \"This is a warning message\""
   ]
  },
  {
   "cell_type": "code",
   "execution_count": 470,
   "metadata": {},
   "outputs": [
    {
     "name": "stderr",
     "output_type": "stream",
     "text": [
      "┌ Error: This is an error message\n",
      "└ @ Main In[470]:1\n",
      "┌ Error: This is an error message\n",
      "└ @ Main In[470]:1\n"
     ]
    }
   ],
   "source": [
    "@error \"This is an error message\""
   ]
  },
  {
   "cell_type": "code",
   "execution_count": 471,
   "metadata": {},
   "outputs": [
    {
     "name": "stderr",
     "output_type": "stream",
     "text": [
      "┌ Info: A is all ones\n",
      "│   A = [1.0 1.0 1.0 1.0; 1.0 1.0 1.0 1.0; 1.0 1.0 1.0 1.0]\n",
      "└ @ Main In[471]:2\n",
      "┌ Info: A is all ones\n",
      "│   A = [1.0 1.0 1.0 1.0; 1.0 1.0 1.0 1.0; 1.0 1.0 1.0 1.0]\n",
      "└ @ Main In[471]:2\n"
     ]
    }
   ],
   "source": [
    "A = ones(3, 4)\n",
    "@info \"A is all ones\" A"
   ]
  },
  {
   "cell_type": "markdown",
   "metadata": {},
   "source": [
    "The `Logging` module provides interfaces to implement complete loggers. It also provides the ability to override the global logger with a different local one. "
   ]
  },
  {
   "cell_type": "code",
   "execution_count": 472,
   "metadata": {},
   "outputs": [],
   "source": [
    "using Logging"
   ]
  },
  {
   "cell_type": "code",
   "execution_count": 473,
   "metadata": {},
   "outputs": [
    {
     "name": "stdout",
     "output_type": "stream",
     "text": [
      "┌ Info: This is my simple info log\n",
      "└ @ Main In[473]:3\n",
      "┌ Error: This is an error written to file\n",
      "└ @ Main In[473]:4\n",
      "┌ Warning: This is a warning message\n",
      "└ @ Main In[473]:5\n",
      "┌ Info: Current logger is same as global logger\n",
      "│   current_logger() == global_logger() = false\n",
      "└ @ Main In[473]:6\n",
      "┌ Info: This is my simple info log\n",
      "└ @ Main In[473]:3\n",
      "┌ Error: This is an error written to file\n",
      "└ @ Main In[473]:4\n",
      "┌ Warning: This is a warning message\n",
      "└ @ Main In[473]:5\n",
      "┌ Info: Current logger is same as global logger\n",
      "│   current_logger() == global_logger() = false\n",
      "└ @ Main In[473]:6\n"
     ]
    }
   ],
   "source": [
    "open(\"file.log\", \"w\") do f\n",
    "    with_logger(SimpleLogger(f)) do\n",
    "        @info \"This is my simple info log\"\n",
    "        @error \"This is an error written to file\"\n",
    "        @warn \"This is a warning message\"\n",
    "        @info \"Current logger is same as global logger\" current_logger() == global_logger()\n",
    "    end\n",
    "end\n",
    "write(stdout, read(\"file.log\"));"
   ]
  },
  {
   "cell_type": "code",
   "execution_count": 474,
   "metadata": {},
   "outputs": [],
   "source": [
    "rm(\"file.log\")"
   ]
  },
  {
   "cell_type": "code",
   "execution_count": 475,
   "metadata": {},
   "outputs": [
    {
     "name": "stderr",
     "output_type": "stream",
     "text": [
      "┌ Info: Current logger is same as global logger\n",
      "│   current_logger() == global_logger() = true\n",
      "└ @ Main In[475]:1\n",
      "┌ Info: Current logger is same as global logger\n",
      "│   current_logger() == global_logger() = true\n",
      "└ @ Main In[475]:1\n"
     ]
    }
   ],
   "source": [
    "@info \"Current logger is same as global logger\" current_logger() == global_logger()"
   ]
  },
  {
   "cell_type": "markdown",
   "metadata": {},
   "source": [
    "### Statistics\n",
    "\n",
    "This module provides simple functions for central tendencies like mean, median and standard deviations etc. Functions for correlations and covariances are also provided. However, the treatment of statistics in thi module are highly rudimentary. "
   ]
  },
  {
   "cell_type": "code",
   "execution_count": 476,
   "metadata": {},
   "outputs": [],
   "source": [
    "using Statistics"
   ]
  },
  {
   "cell_type": "code",
   "execution_count": 477,
   "metadata": {},
   "outputs": [
    {
     "data": {
      "text/plain": [
       "5.5"
      ]
     },
     "execution_count": 477,
     "metadata": {},
     "output_type": "execute_result"
    },
    {
     "data": {
      "text/plain": [
       "5.5"
      ]
     },
     "execution_count": 477,
     "metadata": {},
     "output_type": "execute_result"
    }
   ],
   "source": [
    "mean(1:10)"
   ]
  },
  {
   "cell_type": "code",
   "execution_count": 478,
   "metadata": {},
   "outputs": [
    {
     "data": {
      "text/plain": [
       "5.5"
      ]
     },
     "execution_count": 478,
     "metadata": {},
     "output_type": "execute_result"
    },
    {
     "data": {
      "text/plain": [
       "5.5"
      ]
     },
     "execution_count": 478,
     "metadata": {},
     "output_type": "execute_result"
    }
   ],
   "source": [
    "median(1:10)"
   ]
  },
  {
   "cell_type": "code",
   "execution_count": 479,
   "metadata": {},
   "outputs": [
    {
     "data": {
      "text/plain": [
       "3.0276503540974917"
      ]
     },
     "execution_count": 479,
     "metadata": {},
     "output_type": "execute_result"
    },
    {
     "data": {
      "text/plain": [
       "3.0276503540974917"
      ]
     },
     "execution_count": 479,
     "metadata": {},
     "output_type": "execute_result"
    }
   ],
   "source": [
    "std(1:10)"
   ]
  },
  {
   "cell_type": "code",
   "execution_count": 480,
   "metadata": {},
   "outputs": [
    {
     "data": {
      "text/plain": [
       "9.166666666666666"
      ]
     },
     "execution_count": 480,
     "metadata": {},
     "output_type": "execute_result"
    },
    {
     "data": {
      "text/plain": [
       "9.166666666666666"
      ]
     },
     "execution_count": 480,
     "metadata": {},
     "output_type": "execute_result"
    }
   ],
   "source": [
    "var(1:10)"
   ]
  },
  {
   "cell_type": "code",
   "execution_count": 481,
   "metadata": {},
   "outputs": [
    {
     "data": {
      "text/plain": [
       "0.14343894886239084"
      ]
     },
     "execution_count": 481,
     "metadata": {},
     "output_type": "execute_result"
    },
    {
     "data": {
      "text/plain": [
       "0.14343894886239084"
      ]
     },
     "execution_count": 481,
     "metadata": {},
     "output_type": "execute_result"
    }
   ],
   "source": [
    "cor(1:10, rand(10))"
   ]
  },
  {
   "cell_type": "code",
   "execution_count": 482,
   "metadata": {},
   "outputs": [
    {
     "data": {
      "text/plain": [
       "1.0"
      ]
     },
     "execution_count": 482,
     "metadata": {},
     "output_type": "execute_result"
    },
    {
     "data": {
      "text/plain": [
       "1.0"
      ]
     },
     "execution_count": 482,
     "metadata": {},
     "output_type": "execute_result"
    }
   ],
   "source": [
    "cor(1:10, 11:20)"
   ]
  },
  {
   "cell_type": "code",
   "execution_count": 483,
   "metadata": {},
   "outputs": [
    {
     "data": {
      "text/plain": [
       "-0.3445490659625374"
      ]
     },
     "execution_count": 483,
     "metadata": {},
     "output_type": "execute_result"
    },
    {
     "data": {
      "text/plain": [
       "-0.3445490659625374"
      ]
     },
     "execution_count": 483,
     "metadata": {},
     "output_type": "execute_result"
    }
   ],
   "source": [
    "cov(1:10, rand(10))"
   ]
  },
  {
   "cell_type": "markdown",
   "metadata": {},
   "source": [
    "### Random Numbers\n",
    "\n",
    "Provides methods for random number generation and other permutation and combination functions. "
   ]
  },
  {
   "cell_type": "code",
   "execution_count": 484,
   "metadata": {},
   "outputs": [],
   "source": [
    "using Random"
   ]
  },
  {
   "cell_type": "code",
   "execution_count": 485,
   "metadata": {},
   "outputs": [
    {
     "data": {
      "text/plain": [
       "2-element Vector{Int64}:\n",
       "  6569195484654450909\n",
       " -4337388908353828647"
      ]
     },
     "execution_count": 485,
     "metadata": {},
     "output_type": "execute_result"
    },
    {
     "data": {
      "text/plain": [
       "2-element Vector{Int64}:\n",
       "  6569195484654450909\n",
       " -4337388908353828647"
      ]
     },
     "execution_count": 485,
     "metadata": {},
     "output_type": "execute_result"
    }
   ],
   "source": [
    "rand(Int, 2)"
   ]
  },
  {
   "cell_type": "code",
   "execution_count": 486,
   "metadata": {},
   "outputs": [
    {
     "data": {
      "text/plain": [
       "2×3 Matrix{Float64}:\n",
       " 0.792178  0.113476   0.826045\n",
       " 0.683637  0.0874705  0.772362"
      ]
     },
     "execution_count": 486,
     "metadata": {},
     "output_type": "execute_result"
    },
    {
     "data": {
      "text/plain": [
       "2×3 Matrix{Float64}:\n",
       " 0.792178  0.113476   0.826045\n",
       " 0.683637  0.0874705  0.772362"
      ]
     },
     "execution_count": 486,
     "metadata": {},
     "output_type": "execute_result"
    }
   ],
   "source": [
    "rand(2, 3)"
   ]
  },
  {
   "cell_type": "code",
   "execution_count": 487,
   "metadata": {},
   "outputs": [
    {
     "data": {
      "text/plain": [
       "2×3 Matrix{Float64}:\n",
       " 0.310626   0.261244   0.459716\n",
       " 0.0289169  0.0245242  0.399571"
      ]
     },
     "execution_count": 487,
     "metadata": {},
     "output_type": "execute_result"
    },
    {
     "data": {
      "text/plain": [
       "2×3 Matrix{Float64}:\n",
       " 0.310626   0.261244   0.459716\n",
       " 0.0289169  0.0245242  0.399571"
      ]
     },
     "execution_count": 487,
     "metadata": {},
     "output_type": "execute_result"
    }
   ],
   "source": [
    "rand!(zeros(2, 3))"
   ]
  },
  {
   "cell_type": "code",
   "execution_count": 488,
   "metadata": {},
   "outputs": [
    {
     "data": {
      "text/plain": [
       "2×3 Matrix{Int64}:\n",
       " 2  1  3\n",
       " 2  1  2"
      ]
     },
     "execution_count": 488,
     "metadata": {},
     "output_type": "execute_result"
    },
    {
     "name": "stdout",
     "output_type": "stream",
     "text": [
      "Step: 23\n",
      "Step: 43\n"
     ]
    },
    {
     "data": {
      "text/plain": [
       "2×3 Matrix{Int64}:\n",
       " 2  1  3\n",
       " 2  1  2"
      ]
     },
     "execution_count": 488,
     "metadata": {},
     "output_type": "execute_result"
    },
    {
     "name": "stdout",
     "output_type": "stream",
     "text": [
      "Step: 23\n",
      "Step: 43\n",
      "Step: 87\n",
      "Step: 4\n",
      "Step: 87\n",
      "Step: 4\n",
      "Step: 24\n",
      "Step: 44\n",
      "Step: 24\n",
      "Step: 44\n",
      "Step: 88\n",
      "Step: 5\n",
      "Step: 88\n",
      "Step: 5\n",
      "Step: 25\n",
      "Step: 45\n",
      "Step: 25\n",
      "Step: 45\n",
      "Step: 89\n",
      "Step: 89\n",
      "Step: 6\n",
      "Step: 6\n",
      "Step: 26\n",
      "Step: 46\n",
      "Step: 26\n",
      "Step: 46\n",
      "Step: 90\n",
      "Step: 90\n",
      "Step: 7\n",
      "Step: 7\n",
      "Step: 27\n",
      "Step: 47\n",
      "Step: 27\n",
      "Step: 47\n",
      "Step: 91\n",
      "Step: 8\n",
      "Step: 91\n",
      "Step: 8\n",
      "Step: 28\n",
      "Step: 48\n",
      "Step: 28\n",
      "Step: 48\n",
      "Step: 92\n",
      "Step: 9\n",
      "Step: 92\n",
      "Step: 9\n",
      "Step: 29\n",
      "Step: 49\n",
      "Step: 29\n",
      "Step: 49\n",
      "Step: 93\n",
      "Step: 93\n",
      "Step: 10\n",
      "Step: 10\n",
      "Step: 30\n",
      "Step: 50\n",
      "Step: 30\n",
      "Step: 50\n",
      "Step: 94\n",
      "Step: 94\n",
      "Step: 11\n",
      "Step: 11\n",
      "Step: 31\n",
      "Step: 51\n",
      "Step: 31\n",
      "Step: 51\n",
      "Step: 95\n",
      "Step: 12\n",
      "Step: 95\n",
      "Step: 12\n",
      "Step: 32\n",
      "Step: 32\n",
      "Step: 52\n",
      "Step: 52\n",
      "Step: 96\n",
      "Step: 96\n",
      "Step: 13\n",
      "Step: 13\n",
      "Step: 33\n",
      "Step: 53\n",
      "Step: 33\n",
      "Step: 53\n",
      "Step: 97\n",
      "Step: 14\n",
      "Step: 97\n",
      "Step: 14\n",
      "Step: 34\n",
      "Step: 54\n",
      "Step: 34\n",
      "Step: 54\n",
      "Step: 98\n",
      "Step: 15\n",
      "Step: 98\n",
      "Step: 15\n",
      "Step: 35\n",
      "Step: 55\n",
      "Step: 35\n",
      "Step: 55\n",
      "Step: 99\n",
      "Step: 99\n",
      "Step: 16\n",
      "Step: 16\n",
      "Step: 36\n",
      "Step: 56\n",
      "Step: 36\n",
      "Step: 56\n",
      "Step: 100\n",
      "Step: 100\n",
      "Step: 17\n",
      "Step: 17\n",
      "Step: 37\n",
      "Step: 57\n",
      "Step: 37\n",
      "Step: 57\n",
      "Step: 18\n",
      "Step: 18\n",
      "Step: 38\n",
      "Step: 58\n",
      "Step: 38\n",
      "Step: 58\n",
      "Step: 19\n",
      "Step: 19\n",
      "Step: 39\n",
      "Step: 59\n",
      "Step: 39\n",
      "Step: 59\n",
      "Step: 20\n",
      "Step: 20\n",
      "Step: 40\n",
      "Step: 60\n",
      "Step: 40\n",
      "Step: 60\n",
      "Step: 21\n",
      "Step: 21\n",
      "Step: 41\n",
      "Step: 61\n",
      "Step: 41\n",
      "Step: 61\n",
      "Step: 22\n",
      "Step: 22\n",
      "Step: 42\n",
      "Step: 62\n",
      "Step: 42\n",
      "Step: 62\n",
      "Step: 23\n",
      "Step: 23\n",
      "Step: 43\n",
      "Step: 63\n",
      "Step: 43\n",
      "Step: 63\n"
     ]
    }
   ],
   "source": [
    "rand(1:4, (2, 3))"
   ]
  },
  {
   "cell_type": "markdown",
   "metadata": {},
   "source": [
    "## 9.9 Conclusion\n",
    "\n",
    "## Exercises"
   ]
  }
 ],
 "metadata": {
  "@webio": {
   "lastCommId": null,
   "lastKernelId": null
  },
  "kernelspec": {
   "display_name": "Julia 1.6.7",
   "language": "julia",
   "name": "julia-1.6"
  },
  "language_info": {
   "file_extension": ".jl",
   "mimetype": "application/julia",
   "name": "julia",
   "version": "1.6.7"
  }
 },
 "nbformat": 4,
 "nbformat_minor": 4
}
